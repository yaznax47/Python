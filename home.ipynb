{
 "cells": [
  {
   "cell_type": "code",
   "execution_count": 1,
   "metadata": {},
   "outputs": [
    {
     "name": "stdout",
     "output_type": "stream",
     "text": [
      "enter the value9\n",
      "enter the value5\n",
      "1.add\n",
      "2.sub\n",
      "3.mul\n",
      "4.div\n",
      "your choic3\n",
      "The ans is =  45\n"
     ]
    }
   ],
   "source": [
    "def add(a,b):\n",
    "    x=(a+b)\n",
    "    return print(\"The ans is = \",x) \n",
    "def sub(a,b):\n",
    "    x=(a-b)\n",
    "    return print(\"The ans is = \",x)\n",
    "def mul(a,b):\n",
    "    x=(a*b)\n",
    "    return print(\"The ans is = \",x)\n",
    "def div(a,b):\n",
    "    x=(a/b)\n",
    "    return print(\"The ans is = \",x)\n",
    "def hom():\n",
    "a=int(input(\"enter the value\"))\n",
    "b=int(input(\"enter the value\"))\n",
    "print(\"1.add\")\n",
    "print(\"2.sub\")\n",
    "print(\"3.mul\")\n",
    "print(\"4.div\")\n",
    "choic=int(input(\"your choic\"))\n",
    "if choic==1:\n",
    "    add(a,b)\n",
    "elif choic==2:\n",
    "    sub(a,b)\n",
    "elif choic==3:\n",
    "    mul(a,b)\n",
    "elif choic==4:\n",
    "    div(a,b)\n",
    "else:\n",
    "    print(\"invlaid\"\n",
    "         )    \n",
    "\n",
    "\n",
    "\n"
   ]
  },
  {
   "cell_type": "code",
   "execution_count": null,
   "metadata": {},
   "outputs": [],
   "source": []
  },
  {
   "cell_type": "code",
   "execution_count": null,
   "metadata": {},
   "outputs": [],
   "source": []
  }
 ],
 "metadata": {
  "kernelspec": {
   "display_name": "Python 3",
   "language": "python",
   "name": "python3"
  },
  "language_info": {
   "codemirror_mode": {
    "name": "ipython",
    "version": 3
   },
   "file_extension": ".py",
   "mimetype": "text/x-python",
   "name": "python",
   "nbconvert_exporter": "python",
   "pygments_lexer": "ipython3",
   "version": "3.8.5"
  }
 },
 "nbformat": 4,
 "nbformat_minor": 4
}
