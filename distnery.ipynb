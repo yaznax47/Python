{
 "cells": [
  {
   "cell_type": "code",
   "execution_count": 4,
   "metadata": {},
   "outputs": [
    {
     "data": {
      "text/plain": [
       "'apple'"
      ]
     },
     "execution_count": 4,
     "metadata": {},
     "output_type": "execute_result"
    }
   ],
   "source": [
    "d={\"a\":\"apple\",\"b\":\"ball\"}\n",
    "d[\"a\"]"
   ]
  },
  {
   "cell_type": "code",
   "execution_count": 9,
   "metadata": {},
   "outputs": [
    {
     "data": {
      "text/plain": [
       "{0: 'apple', 'b': 'ball'}"
      ]
     },
     "execution_count": 9,
     "metadata": {},
     "output_type": "execute_result"
    }
   ],
   "source": [
    "d={}\n",
    "d[0]=\"apple\"\n",
    "d[\"b\"]=\"ball\"\n",
    "d"
   ]
  },
  {
   "cell_type": "code",
   "execution_count": 10,
   "metadata": {},
   "outputs": [
    {
     "data": {
      "text/plain": [
       "'apple'"
      ]
     },
     "execution_count": 10,
     "metadata": {},
     "output_type": "execute_result"
    }
   ],
   "source": [
    "d[0]"
   ]
  },
  {
   "cell_type": "code",
   "execution_count": 14,
   "metadata": {},
   "outputs": [
    {
     "name": "stdout",
     "output_type": "stream",
     "text": [
      "enter name=sa\n",
      "enter num=12\n",
      "enter name=as\n",
      "enter num=21\n",
      "{'sa': 12, 'as': 21}\n"
     ]
    }
   ],
   "source": [
    "info={}\n",
    "for i in range(2):\n",
    "    name=input(\"enter name=\")\n",
    "    phone=int(input(\"enter num=\"))\n",
    "    info[name]=phone\n",
    "print(info)"
   ]
  },
  {
   "cell_type": "code",
   "execution_count": 58,
   "metadata": {},
   "outputs": [
    {
     "name": "stdout",
     "output_type": "stream",
     "text": [
      "ball\n"
     ]
    }
   ],
   "source": [
    "a={'a': \"apple\", 'b': \"ball\",\"c\":\"cat\"}\n",
    "d={\"d\":\"dog\"}\n",
    "a.update(d)\n",
    "print(a[\"b\"])\n",
    "\n",
    "\n"
   ]
  },
  {
   "cell_type": "code",
   "execution_count": 25,
   "metadata": {},
   "outputs": [
    {
     "name": "stdout",
     "output_type": "stream",
     "text": [
      "apple\n",
      "ball\n",
      "cat\n",
      "dog\n"
     ]
    }
   ],
   "source": [
    "for i in a.values():\n",
    "    print(i)"
   ]
  },
  {
   "cell_type": "code",
   "execution_count": 34,
   "metadata": {},
   "outputs": [],
   "source": [
    "for i in a.items():\n",
    "    print(i)"
   ]
  },
  {
   "cell_type": "code",
   "execution_count": 50,
   "metadata": {},
   "outputs": [
    {
     "name": "stdout",
     "output_type": "stream",
     "text": [
      "{}\n"
     ]
    }
   ],
   "source": [
    "# /update clear del pop \n",
    "a={'a': \"apple\", 'b': \"ball\",\"c\":\"cat\"}\n",
    "a.clear()\n",
    "print(a)\n"
   ]
  },
  {
   "cell_type": "code",
   "execution_count": 48,
   "metadata": {},
   "outputs": [
    {
     "name": "stdout",
     "output_type": "stream",
     "text": [
      "enter name=sa\n",
      "enter num=34\n",
      "enter num=43\n",
      "enter name=er\n",
      "enter num=5\n",
      "enter num=3\n",
      "{'sa': [34, 43], 'er': [5, 3]}\n"
     ]
    }
   ],
   "source": [
    "info={}\n",
    "for i in range(2):\n",
    "    name=input(\"enter name=\")\n",
    "    ncellphone=int(input(\"enter num=\"))\n",
    "    ntcphone=int(input(\"enter num=\"))\n",
    "    \n",
    "    info[name]=[ncellphone,ntcphone]\n",
    "print(info)"
   ]
  },
  {
   "cell_type": "code",
   "execution_count": 59,
   "metadata": {},
   "outputs": [
    {
     "data": {
      "text/plain": [
       "'apple'"
      ]
     },
     "execution_count": 59,
     "metadata": {},
     "output_type": "execute_result"
    }
   ],
   "source": [
    "b={}\n",
    "a={'a': \"apple\", 'b': \"ball\",\"c\":\"cat\"}\n",
    "a.pop(\"a\")"
   ]
  },
  {
   "cell_type": "code",
   "execution_count": 61,
   "metadata": {},
   "outputs": [
    {
     "data": {
      "text/plain": [
       "{'A': 'apple', 'B': 'ball', 'C': 'cat'}"
      ]
     },
     "execution_count": 61,
     "metadata": {},
     "output_type": "execute_result"
    }
   ],
   "source": [
    "b={}\n",
    "a={'a': \"apple\", 'b': \"ball\",\"c\":\"cat\"}\n",
    "for i in a.items():\n",
    "    k=i[0].capitalize()\n",
    "    v=i[1]\n",
    "    b[k]=v\n",
    "b"
   ]
  },
  {
   "cell_type": "code",
   "execution_count": 94,
   "metadata": {},
   "outputs": [
    {
     "name": "stdout",
     "output_type": "stream",
     "text": [
      "['a', 'apple'] \n",
      " ['b', 'ball']\n"
     ]
    }
   ],
   "source": [
    "b=[]\n",
    "a={'a': \"apple\", 'b': \"ball\",\"c\":\"cat\"}\n",
    "for i in a.items():\n",
    "    if x[0]==\"a\":\n",
    "        x=list(i)\n",
    "        x[0]=\"A\".decapitalize()\n",
    "        \n",
    "    else:\n",
    "        b.append(list(i))\n",
    "print(b[0],\"\\n\",b[1])"
   ]
  },
  {
   "cell_type": "code",
   "execution_count": 95,
   "metadata": {},
   "outputs": [
    {
     "data": {
      "text/plain": [
       "[{'ram': 88}]"
      ]
     },
     "execution_count": 95,
     "metadata": {},
     "output_type": "execute_result"
    }
   ],
   "source": [
    "a=[{\"ram\":88}]\n",
    "a"
   ]
  },
  {
   "cell_type": "code",
   "execution_count": 97,
   "metadata": {},
   "outputs": [
    {
     "data": {
      "text/plain": [
       "[{'ram': 88}, {'sa': 666}]"
      ]
     },
     "execution_count": 97,
     "metadata": {},
     "output_type": "execute_result"
    }
   ],
   "source": [
    "a.append({\"sa\":666})\n",
    "a"
   ]
  },
  {
   "cell_type": "code",
   "execution_count": 1,
   "metadata": {},
   "outputs": [
    {
     "name": "stdout",
     "output_type": "stream",
     "text": [
      "enter n=2\n",
      "enter name=sd\n",
      "enter num=23\n",
      "enter name=ew\n",
      "enter num=54\n",
      "[{'sd': 23}, {'ew': 54}]\n"
     ]
    }
   ],
   "source": [
    "z=[]\n",
    "n=int(input(\"enter n=\"))\n",
    "for i in range(n):\n",
    "    name=input(\"enter name=\")\n",
    "    phone=int(input(\"enter num=\"))\n",
    "    d={name:phone}\n",
    "    z.append(d)\n",
    "print(z)\n",
    "    "
   ]
  },
  {
   "cell_type": "code",
   "execution_count": null,
   "metadata": {},
   "outputs": [],
   "source": []
  },
  {
   "cell_type": "code",
   "execution_count": null,
   "metadata": {},
   "outputs": [],
   "source": []
  }
 ],
 "metadata": {
  "kernelspec": {
   "display_name": "Python 3",
   "language": "python",
   "name": "python3"
  },
  "language_info": {
   "codemirror_mode": {
    "name": "ipython",
    "version": 3
   },
   "file_extension": ".py",
   "mimetype": "text/x-python",
   "name": "python",
   "nbconvert_exporter": "python",
   "pygments_lexer": "ipython3",
   "version": "3.8.5"
  }
 },
 "nbformat": 4,
 "nbformat_minor": 4
}
