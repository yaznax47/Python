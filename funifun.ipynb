{
 "cells": [
  {
   "cell_type": "code",
   "execution_count": 6,
   "metadata": {},
   "outputs": [
    {
     "name": "stdout",
     "output_type": "stream",
     "text": [
      "hello world\n"
     ]
    }
   ],
   "source": [
    " def outer_function(fun):\n",
    "        \n",
    "        def inner_function():\n",
    "            x=fun()\n",
    "        return inner_function()\n",
    "@outer_function\n",
    "def hello():\n",
    "    print(\"hello world\")"
   ]
  },
  {
   "cell_type": "code",
   "execution_count": 10,
   "metadata": {},
   "outputs": [
    {
     "name": "stdout",
     "output_type": "stream",
     "text": [
      "['Hello', 'world']\n"
     ]
    }
   ],
   "source": [
    "def strings(function):\n",
    "    def wrapper():\n",
    "        fun=function()\n",
    "        x=fun.capitalize()\n",
    "        return x\n",
    "    return wrapper\n",
    "def split_string(function):\n",
    "    def wrappe():\n",
    "        func=function()\n",
    "        splitted_function=func.split()\n",
    "        return splitted_function\n",
    "    return wrappe\n",
    "@sp lit_string\n",
    "@strings\n",
    "def info():\n",
    "    return \"Hello World\"\n",
    "print(info())"
   ]
  },
  {
   "cell_type": "code",
   "execution_count": 11,
   "metadata": {},
   "outputs": [
    {
     "name": "stdout",
     "output_type": "stream",
     "text": [
      "Hello world\n"
     ]
    }
   ],
   "source": [
    "def strings(function):\n",
    "    def wrapper():\n",
    "        fun=function()\n",
    "        x=fun.capitalize()\n",
    "        return x\n",
    "    return wrapper\n",
    "@strings\n",
    "def info():\n",
    "    return \"Hello World\"\n",
    "print(info())"
   ]
  },
  {
   "cell_type": "code",
   "execution_count": null,
   "metadata": {},
   "outputs": [],
   "source": []
  }
 ],
 "metadata": {
  "kernelspec": {
   "display_name": "Python 3",
   "language": "python",
   "name": "python3"
  },
  "language_info": {
   "codemirror_mode": {
    "name": "ipython",
    "version": 3
   },
   "file_extension": ".py",
   "mimetype": "text/x-python",
   "name": "python",
   "nbconvert_exporter": "python",
   "pygments_lexer": "ipython3",
   "version": "3.8.5"
  }
 },
 "nbformat": 4,
 "nbformat_minor": 4
}
