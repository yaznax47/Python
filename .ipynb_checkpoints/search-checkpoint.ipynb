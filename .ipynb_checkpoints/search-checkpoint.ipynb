{
 "cells": [
  {
   "cell_type": "code",
   "execution_count": 32,
   "metadata": {},
   "outputs": [
    {
     "name": "stdout",
     "output_type": "stream",
     "text": [
      "foend\n"
     ]
    }
   ],
   "source": [
    "def search(a,n):\n",
    "    i=0\n",
    "    while i<len(a):\n",
    "        if a[i]==n:\n",
    "            return True;\n",
    "        i=i+1\n",
    "    return False;\n",
    "    \n",
    "a=[5,2,9,1,7]\n",
    "n=2\n",
    "if n in a:\n",
    "    print(\"foend\")\n",
    "else:\n",
    "    print(\"not found\")"
   ]
  },
  {
   "cell_type": "code",
   "execution_count": 30,
   "metadata": {},
   "outputs": [
    {
     "name": "stdout",
     "output_type": "stream",
     "text": [
      "enter the name=cat\n",
      "found it Cat\n"
     ]
    }
   ],
   "source": [
    "s = ['Apple', 'Ball', 'Cat', 'Dog', 'Fish']\n",
    "n=input(\"enter the name=\").capitalize()\n",
    "if n in s:\n",
    "    print(\"found it\",n)\n",
    "else:\n",
    "    print(\"not found\")"
   ]
  },
  {
   "cell_type": "code",
   "execution_count": 26,
   "metadata": {},
   "outputs": [
    {
     "name": "stdout",
     "output_type": "stream",
     "text": [
      "enter the name=SDFSDF\n",
      "sdfsdf\n"
     ]
    }
   ],
   "source": [
    "n=input(\"enter the name=\").lower()\n",
    "print(n)"
   ]
  },
  {
   "cell_type": "code",
   "execution_count": null,
   "metadata": {},
   "outputs": [],
   "source": [
    "    "
   ]
  }
 ],
 "metadata": {
  "kernelspec": {
   "display_name": "Python 3",
   "language": "python",
   "name": "python3"
  },
  "language_info": {
   "codemirror_mode": {
    "name": "ipython",
    "version": 3
   },
   "file_extension": ".py",
   "mimetype": "text/x-python",
   "name": "python",
   "nbconvert_exporter": "python",
   "pygments_lexer": "ipython3",
   "version": "3.8.5"
  }
 },
 "nbformat": 4,
 "nbformat_minor": 4
}
