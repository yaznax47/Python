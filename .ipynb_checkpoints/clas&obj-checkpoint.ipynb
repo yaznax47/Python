{
 "cells": [
  {
   "cell_type": "code",
   "execution_count": 1,
   "metadata": {},
   "outputs": [],
   "source": [
    "class Hello:\n",
    "    pass\n",
    "obj=Hello()"
   ]
  },
  {
   "cell_type": "code",
   "execution_count": 4,
   "metadata": {},
   "outputs": [
    {
     "name": "stdout",
     "output_type": "stream",
     "text": [
      "helo world\n"
     ]
    }
   ],
   "source": [
    "class Hello:\n",
    "    print(\"helo world\")\n",
    "obj=Hello()"
   ]
  },
  {
   "cell_type": "code",
   "execution_count": 17,
   "metadata": {},
   "outputs": [
    {
     "name": "stdout",
     "output_type": "stream",
     "text": [
      "helo world\n"
     ]
    }
   ],
   "source": [
    "class Hello:\n",
    "    def hello(s):\n",
    "        print(\"helo world\")\n",
    "obj=Hello()\n",
    "obj.hello()"
   ]
  },
  {
   "cell_type": "code",
   "execution_count": 21,
   "metadata": {},
   "outputs": [
    {
     "name": "stdout",
     "output_type": "stream",
     "text": [
      "yoyo\n"
     ]
    }
   ],
   "source": [
    "class Hello:\n",
    "    def hello(s,x):\n",
    "        print(x)\n",
    "obj=Hello()\n",
    "obj.hello(\"yoyo\")"
   ]
  },
  {
   "cell_type": "code",
   "execution_count": 28,
   "metadata": {},
   "outputs": [
    {
     "name": "stdout",
     "output_type": "stream",
     "text": [
      "enter l=5\n",
      "enter b=8\n",
      "enter h=2\n",
      "teh anser is= 40\n",
      "teh anser is= 80\n"
     ]
    }
   ],
   "source": [
    "class Cal:\n",
    "    def area(self,l,b):\n",
    "        a=l*b\n",
    "        print(\"teh anser is=\",a)\n",
    "    def volume(self,l,b,h):\n",
    "        v=l*b*h\n",
    "        print(\"teh anser is=\",v)\n",
    "\n",
    "obj=Cal()\n",
    "l=int(input(\"enter l=\"))\n",
    "b=int(input(\"enter b=\"))\n",
    "h=int(input(\"enter h=\"))\n",
    "obj.area(l,b)\n",
    "obj.volume(l,b,h)\n"
   ]
  },
  {
   "cell_type": "code",
   "execution_count": 35,
   "metadata": {
    "scrolled": true
   },
   "outputs": [
    {
     "name": "stdout",
     "output_type": "stream",
     "text": [
      "enter l=2\n",
      "enter b=8\n",
      "enter h=5\n",
      "teh anser is= 16\n",
      "teh anser is= 80\n"
     ]
    }
   ],
   "source": [
    "class Cal:\n",
    "    def area(self,l,b):\n",
    "        a=l*b\n",
    "        print(\"teh anser is=\",a)\n",
    "class Volume:\n",
    "    def Volume(self,l,b,h):\n",
    "        v=l*b*h\n",
    "        print(\"teh anser is=\",v)\n",
    "\n",
    "obj=Cal()\n",
    "obj1=Volume()\n",
    "l=int(input(\"enter l=\"))\n",
    "b=int(input(\"enter b=\"))\n",
    "h=int(input(\"enter h=\"))\n",
    "obj.area(l,b)\n",
    "obj1.Volume(l,b,h)\n"
   ]
  },
  {
   "cell_type": "code",
   "execution_count": 7,
   "metadata": {},
   "outputs": [
    {
     "name": "stdout",
     "output_type": "stream",
     "text": [
      "enter l=5\n",
      "enter b=8\n",
      "enter h=2\n",
      "teh anser is= 40\n",
      "teh anser is= 80\n"
     ]
    }
   ],
   "source": [
    "class Cal:\n",
    "    def __init__(self,l,b,h):\n",
    "        self.l=l\n",
    "        self.b=b\n",
    "        self.h=h\n",
    "\n",
    "    def area(self):\n",
    "        a=self.l*self.b\n",
    "        print(\"teh anser is=\",a)\n",
    "    def volume(f):\n",
    "        v=f.l*f.b*f.h\n",
    "        print(\"teh anser is=\",v)\n",
    "\n",
    "l=int(input(\"enter l=\"))\n",
    "b=int(input(\"enter b=\"))\n",
    "h=int(input(\"enter h=\"))\n",
    "obj=Cal(l,b,h)\n",
    "obj.area()\n",
    "obj.volume()\n"
   ]
  },
  {
   "cell_type": "code",
   "execution_count": 11,
   "metadata": {},
   "outputs": [
    {
     "name": "stdout",
     "output_type": "stream",
     "text": [
      "enter l=2\n",
      "enter b=8\n",
      "enter h=5\n",
      "teh anser is= 16\n",
      "teh anser is= 80\n"
     ]
    }
   ],
   "source": [
    "class Cal:\n",
    "    def __init__(self,l,b,h):\n",
    "        self.l=l\n",
    "        self.b=b\n",
    "        \n",
    "\n",
    "    def area(self):\n",
    "        a=self.l*self.b\n",
    "        print(\"the anser is=\",a)\n",
    "    def volume(f,h):\n",
    "        v=f.l*f.b*h\n",
    "        print(\"the anser is=\",v)\n",
    "\n",
    "l=int(input(\"enter l=\"))\n",
    "b=int(input(\"enter b=\"))\n",
    "h=int(input(\"enter h=\"))\n",
    "obj=Cal(l,b,h)\n",
    "obj.area()\n",
    "obj.volume(h)\n"
   ]
  },
  {
   "cell_type": "code",
   "execution_count": 1,
   "metadata": {},
   "outputs": [
    {
     "name": "stdout",
     "output_type": "stream",
     "text": [
      "enter l=5\n",
      "enter b=5\n",
      "enter h=5\n",
      "the anser is= 25\n",
      "the anser is= 125\n"
     ]
    }
   ],
   "source": [
    "class Area:\n",
    "    def __init__(self,l,b):\n",
    "        self.l=l\n",
    "        self.b=b\n",
    "        \n",
    "\n",
    "    def area(self):\n",
    "        a=self.l*self.b\n",
    "        print(\"the anser is=\",a)\n",
    "    \n",
    "class Volume:\n",
    "    def __init__(self,l,b,h):\n",
    "        self.x=l\n",
    "        self.y=b\n",
    "        self.z=h\n",
    "        \n",
    "    def volume(f):\n",
    "        v=f.x*f.y*f.z\n",
    "        print(\"the anser is=\",v)\n",
    "\n",
    "l=int(input(\"enter l=\"))\n",
    "b=int(input(\"enter b=\"))\n",
    "h=int(input(\"enter h=\"))\n",
    "obj=Area(l,b)\n",
    "obj1=Volume(l,b,h)\n",
    "obj.area()\n",
    "obj1.volume()\n"
   ]
  },
  {
   "cell_type": "code",
   "execution_count": 49,
   "metadata": {},
   "outputs": [
    {
     "name": "stdout",
     "output_type": "stream",
     "text": [
      "ram\n",
      "54\n"
     ]
    }
   ],
   "source": [
    "class Info:\n",
    "    def __init__(self,name,age,address):\n",
    "        self.name=name\n",
    "        self.age=age\n",
    "        self.address=address\n",
    "    def __str__(self):\n",
    "        return f\"{self.name}--{self.age}\"\n",
    "        \n",
    "name=\"ram\"\n",
    "age=54\n",
    "address=\"kt\"\n",
    "obj=Info(name,age,address)\n",
    "a=obj.__str__()\n",
    "b=a.split(\"--\")\n",
    "\n",
    "for i in b:\n",
    "    print(i)"
   ]
  },
  {
   "cell_type": "code",
   "execution_count": 29,
   "metadata": {},
   "outputs": [
    {
     "name": "stdout",
     "output_type": "stream",
     "text": [
      "{'name': 'ram'}\n"
     ]
    }
   ],
   "source": [
    "class Info:\n",
    "    def __init__(self,name,age,address):\n",
    "        self.name=name\n",
    "        self.age=age\n",
    "        self.address=address\n",
    "    def __repr__(self):\n",
    "        return {\"name\":self.name,}\n",
    "        \n",
    "name=\"ram\"\n",
    "age=54\n",
    "address=\"kt\"\n",
    "obj=Info(name,age,address)\n",
    "print(obj.__repr__())"
   ]
  },
  {
   "cell_type": "code",
   "execution_count": null,
   "metadata": {},
   "outputs": [],
   "source": []
  }
 ],
 "metadata": {
  "kernelspec": {
   "display_name": "Python 3",
   "language": "python",
   "name": "python3"
  },
  "language_info": {
   "codemirror_mode": {
    "name": "ipython",
    "version": 3
   },
   "file_extension": ".py",
   "mimetype": "text/x-python",
   "name": "python",
   "nbconvert_exporter": "python",
   "pygments_lexer": "ipython3",
   "version": "3.8.5"
  }
 },
 "nbformat": 4,
 "nbformat_minor": 4
}
