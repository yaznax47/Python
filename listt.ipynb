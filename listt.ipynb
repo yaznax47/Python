{
 "cells": [
  {
   "cell_type": "code",
   "execution_count": 7,
   "metadata": {},
   "outputs": [
    {
     "name": "stdout",
     "output_type": "stream",
     "text": [
      "[1, 2, 3]\n",
      "['apple', 'ball', 'cat']\n",
      "<class 'list'> <class 'list'>\n"
     ]
    }
   ],
   "source": [
    "a=[1,2,3]\n",
    "b=[\"apple\",\"ball\",\"cat\"]\n",
    "print(a)\n",
    "print(b)\n",
    "print(type(a),type(b))"
   ]
  },
  {
   "cell_type": "code",
   "execution_count": null,
   "metadata": {},
   "outputs": [],
   "source": [
    "# list \n",
    "# Mutable\n",
    "# indexing\n",
    "# ordered\n",
    "# duplicate values"
   ]
  },
  {
   "cell_type": "code",
   "execution_count": 11,
   "metadata": {},
   "outputs": [
    {
     "data": {
      "text/plain": [
       "['apple', 'cat', 'eat', 2]"
      ]
     },
     "execution_count": 11,
     "metadata": {},
     "output_type": "execute_result"
    }
   ],
   "source": [
    "b=[\"apple\",\"ball\",\"cat\",\"dog\",\"eat\",1,2,3,4,5]\n",
    "b[0:8:2]"
   ]
  },
  {
   "cell_type": "code",
   "execution_count": 13,
   "metadata": {},
   "outputs": [
    {
     "data": {
      "text/plain": [
       "'l'"
      ]
     },
     "execution_count": 13,
     "metadata": {},
     "output_type": "execute_result"
    }
   ],
   "source": [
    "b=[\"apple\",\"ball\",\"cat\",\"dog\",\"eat\",1,2,3,4,5]\n",
    "b[1][3]"
   ]
  },
  {
   "cell_type": "code",
   "execution_count": 15,
   "metadata": {},
   "outputs": [
    {
     "data": {
      "text/plain": [
       "[4, 3, 2, 1, 'eat', 'dog', 'cat', 'ball', 'apple']"
      ]
     },
     "execution_count": 15,
     "metadata": {},
     "output_type": "execute_result"
    }
   ],
   "source": [
    "b=[\"apple\",\"ball\",\"cat\",\"dog\",\"eat\",1,2,3,4,5]\n",
    "b[8::-1]"
   ]
  },
  {
   "cell_type": "code",
   "execution_count": 18,
   "metadata": {},
   "outputs": [
    {
     "name": "stdout",
     "output_type": "stream",
     "text": [
      "['ball', 'apple']\n"
     ]
    }
   ],
   "source": [
    "b=[\"ball\"]\n",
    "a=[\"apple\"]\n",
    "print(b+a)"
   ]
  },
  {
   "cell_type": "code",
   "execution_count": 20,
   "metadata": {},
   "outputs": [
    {
     "name": "stdout",
     "output_type": "stream",
     "text": [
      "['ball', 'ball', 'ball']\n"
     ]
    }
   ],
   "source": [
    "b=[\"ball\"]\n",
    "print(b*3)"
   ]
  },
  {
   "cell_type": "code",
   "execution_count": 22,
   "metadata": {},
   "outputs": [
    {
     "data": {
      "text/plain": [
       "2"
      ]
     },
     "execution_count": 22,
     "metadata": {},
     "output_type": "execute_result"
    }
   ],
   "source": [
    "b=[\"ball\",\"ball\"]\n",
    "len(b)"
   ]
  },
  {
   "cell_type": "code",
   "execution_count": 27,
   "metadata": {},
   "outputs": [
    {
     "name": "stdout",
     "output_type": "stream",
     "text": [
      "['z', 'ball', 'cat', 'dog', 'eat', 1, 2, 3, 4, 5]\n"
     ]
    }
   ],
   "source": [
    "b=[\"apple\",\"ball\",\"cat\",\"dog\",\"eat\",1,2,3,4,5]\n",
    "b[0]=\"z\"\n",
    "print(b)"
   ]
  },
  {
   "cell_type": "code",
   "execution_count": 29,
   "metadata": {},
   "outputs": [
    {
     "name": "stdout",
     "output_type": "stream",
     "text": [
      "['apple']\n"
     ]
    }
   ],
   "source": [
    "a={}\n",
    "a=list()\n",
    "b=[\"apple\"]\n",
    "print(a+b)"
   ]
  },
  {
   "cell_type": "code",
   "execution_count": 3,
   "metadata": {},
   "outputs": [
    {
     "name": "stdout",
     "output_type": "stream",
     "text": [
      "enter n=2\n",
      "enter x=0\n",
      "enter x=0\n",
      "[0, 0]\n"
     ]
    }
   ],
   "source": [
    "s=[]\n",
    "n=int(input(\"enter n=\"))\n",
    "for i in range(n):\n",
    "    x=int(input(\"enter x=\"))\n",
    "    s=s+[x]\n",
    "print(s)"
   ]
  },
  {
   "cell_type": "code",
   "execution_count": 4,
   "metadata": {},
   "outputs": [
    {
     "name": "stdout",
     "output_type": "stream",
     "text": [
      "enter n=3\n",
      "enter x=4\n",
      "enter x=7\n",
      "enter x=9\n",
      "the list = [4, 7, 9]\n"
     ]
    }
   ],
   "source": [
    "s=[]\n",
    "n=int(input(\"enter n=\"))\n",
    "for i in range(n):\n",
    "    x=int(input(\"enter x=\"))\n",
    "    s=s+[x]\n",
    "print(\"the list =\",s)\n"
   ]
  },
  {
   "cell_type": "code",
   "execution_count": 5,
   "metadata": {},
   "outputs": [
    {
     "name": "stdout",
     "output_type": "stream",
     "text": [
      "4\n",
      "7\n",
      "9\n"
     ]
    }
   ],
   "source": [
    "for i  in s:\n",
    "    print(i)"
   ]
  },
  {
   "cell_type": "code",
   "execution_count": 6,
   "metadata": {},
   "outputs": [
    {
     "name": "stdout",
     "output_type": "stream",
     "text": [
      "apple\n",
      "ball\n",
      "cat\n",
      "dog\n",
      "eat\n"
     ]
    }
   ],
   "source": [
    "s=[\"apple\",\"ball\",\"cat\",\"dog\",\"eat\"]\n",
    "n=len(s)\n",
    "for i in range(n):\n",
    "    print(s[i])"
   ]
  },
  {
   "cell_type": "code",
   "execution_count": 8,
   "metadata": {},
   "outputs": [
    {
     "name": "stdout",
     "output_type": "stream",
     "text": [
      "yes 1\n"
     ]
    }
   ],
   "source": [
    "s=[\"apple\",\"ball\",\"cat\",\"dog\",\"eat\"]\n",
    "if \"apple\" in s:\n",
    "    print(\"yes\",s.count(\"apple\"))\n",
    "else:\n",
    "    print(\"no\")"
   ]
  },
  {
   "cell_type": "code",
   "execution_count": 11,
   "metadata": {},
   "outputs": [
    {
     "name": "stdout",
     "output_type": "stream",
     "text": [
      "0\n"
     ]
    }
   ],
   "source": [
    "s=[\"apple\",\"ball\",\"cat\",\"dog\",\"eat\"]\n",
    "n=len(s)\n",
    "for i in range(n):\n",
    "    if s[i]==\"apple\":\n",
    "#         print(\"yes\")\n",
    "# else:\n",
    "#         print(\"no\")\n",
    "        print(i)"
   ]
  },
  {
   "cell_type": "code",
   "execution_count": 18,
   "metadata": {},
   "outputs": [
    {
     "name": "stdout",
     "output_type": "stream",
     "text": [
      "0\n",
      "5\n",
      "[0, 5]\n"
     ]
    }
   ],
   "source": [
    "index=[]\n",
    "s=[\"apple\",\"ball\",\"cat\",\"dog\",\"eat\",\"apple\"]\n",
    "n=len(s)\n",
    "for i in range(n):\n",
    "    if s[i]==\"apple\":\n",
    "        print(i)\n",
    "        index=index+[i]\n",
    "print(index)"
   ]
  },
  {
   "cell_type": "code",
   "execution_count": 19,
   "metadata": {},
   "outputs": [
    {
     "name": "stdout",
     "output_type": "stream",
     "text": [
      "['ball']\n"
     ]
    }
   ],
   "source": [
    "# append()\n",
    "a=[]\n",
    "b=\"ball\"\n",
    "a.append(b)\n",
    "print(a)"
   ]
  },
  {
   "cell_type": "code",
   "execution_count": 25,
   "metadata": {},
   "outputs": [
    {
     "name": "stdout",
     "output_type": "stream",
     "text": [
      "enter n=5\n",
      "enter x=48\n",
      "enter x=41\n",
      "enter x=24\n",
      "enter x=45\n",
      "enter x=65\n",
      "[48, 41, 24, 45, 65]\n",
      "the sum is= 223\n",
      "the ma is= 65\n",
      "the min is= 24\n",
      "the avg is= 44.6\n"
     ]
    }
   ],
   "source": [
    "s=[]\n",
    "n=int(input(\"enter n=\"))\n",
    "for i in range(n):\n",
    "    x=int(input(\"enter x=\"))\n",
    "    s.append(x)\n",
    "print(s)\n",
    "print(\"the sum is=\",sum(s))\n",
    "print(\"the ma is=\",max(s))\n",
    "print(\"the min is=\",min(s))\n",
    "print(\"the avg is=\",sum(s)/n)"
   ]
  },
  {
   "cell_type": "code",
   "execution_count": 27,
   "metadata": {},
   "outputs": [
    {
     "name": "stdout",
     "output_type": "stream",
     "text": [
      "[24, 41, 45, 48, 65]\n"
     ]
    }
   ],
   "source": [
    "s.sort()\n",
    "print(s)"
   ]
  },
  {
   "cell_type": "code",
   "execution_count": 28,
   "metadata": {},
   "outputs": [
    {
     "data": {
      "text/plain": [
       "['apple', 'ball', 'cat', 'dog', 'eat']"
      ]
     },
     "execution_count": 28,
     "metadata": {},
     "output_type": "execute_result"
    }
   ],
   "source": [
    "a=[\"apple\",\"ball\",\"cat\",\"dog\",\"eat\"]\n",
    "a.sort()\n",
    "a\n"
   ]
  },
  {
   "cell_type": "code",
   "execution_count": 30,
   "metadata": {},
   "outputs": [
    {
     "name": "stdout",
     "output_type": "stream",
     "text": [
      "['ant', 'apple', 'ball', 'cat', 'dog', 'eat']\n",
      "ball\n"
     ]
    }
   ],
   "source": [
    "a=[\"apple\",\"ball\",\"cat\",\"ant\",\"dog\",\"eat\"]\n",
    "print(sorted(a))\n",
    "print(b)"
   ]
  },
  {
   "cell_type": "code",
   "execution_count": 4,
   "metadata": {},
   "outputs": [
    {
     "name": "stdout",
     "output_type": "stream",
     "text": [
      "['ram--qweqw', 'saham---344']\n"
     ]
    }
   ],
   "source": [
    "s=\"ram--qweqw\\nsaham---344\\n\"\n",
    "data=s.split(\"\\n\")\n",
    "data1=data[0:-1]\n",
    "print(data1)"
   ]
  },
  {
   "cell_type": "code",
   "execution_count": 3,
   "metadata": {},
   "outputs": [
    {
     "name": "stdout",
     "output_type": "stream",
     "text": [
      "enter roll1\n",
      "ram--qweqw\n"
     ]
    }
   ],
   "source": [
    "index=int(input(\"enter roll\"))\n",
    "print(data1[index-1])"
   ]
  },
  {
   "cell_type": "code",
   "execution_count": null,
   "metadata": {},
   "outputs": [],
   "source": []
  }
 ],
 "metadata": {
  "kernelspec": {
   "display_name": "Python 3",
   "language": "python",
   "name": "python3"
  },
  "language_info": {
   "codemirror_mode": {
    "name": "ipython",
    "version": 3
   },
   "file_extension": ".py",
   "mimetype": "text/x-python",
   "name": "python",
   "nbconvert_exporter": "python",
   "pygments_lexer": "ipython3",
   "version": "3.8.5"
  }
 },
 "nbformat": 4,
 "nbformat_minor": 4
}
