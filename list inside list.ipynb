{
 "cells": [
  {
   "cell_type": "code",
   "execution_count": 2,
   "metadata": {},
   "outputs": [
    {
     "name": "stdout",
     "output_type": "stream",
     "text": [
      "[[], [], [], []]\n",
      "<class 'list'>\n",
      "4\n"
     ]
    }
   ],
   "source": [
    "a = [[],[],[],[]]\n",
    "print(a)\n",
    "print(type(a))\n",
    "print(len(a))"
   ]
  },
  {
   "cell_type": "code",
   "execution_count": 5,
   "metadata": {},
   "outputs": [
    {
     "data": {
      "text/plain": [
       "[7, 8, 9]"
      ]
     },
     "execution_count": 5,
     "metadata": {},
     "output_type": "execute_result"
    }
   ],
   "source": [
    "a = [[1,2,3],\n",
    "     [4,5,6],\n",
    "     [7,8,9]]\n",
    "a[2]"
   ]
  },
  {
   "cell_type": "code",
   "execution_count": 7,
   "metadata": {},
   "outputs": [
    {
     "data": {
      "text/plain": [
       "1"
      ]
     },
     "execution_count": 7,
     "metadata": {},
     "output_type": "execute_result"
    }
   ],
   "source": [
    "a = [[1,2,3],\n",
    "     [4,5,6],\n",
    "     [7,8,9]]\n",
    "a[0][0]"
   ]
  },
  {
   "cell_type": "code",
   "execution_count": 11,
   "metadata": {},
   "outputs": [
    {
     "name": "stdout",
     "output_type": "stream",
     "text": [
      "Enter n = 2\n",
      "Enter name = Ram\n",
      "Enter phone = 867867878\n",
      "Enter name = Shyam\n",
      "Enter phone = 8869696\n",
      "[[1, 'Ram', 867867878], [2, 'Shyam', 8869696]]\n"
     ]
    }
   ],
   "source": [
    "data = []\n",
    "n = int(input(\"Enter n = \"))\n",
    "for i in range(1,n+1):\n",
    "    name = input('Enter name = ')\n",
    "    phone = int(input(\"Enter phone = \"))\n",
    "    info = [i,name,phone]\n",
    "    data.append(info)\n",
    "print(data)"
   ]
  },
  {
   "cell_type": "code",
   "execution_count": 10,
   "metadata": {},
   "outputs": [
    {
     "data": {
      "text/plain": [
       "['Shyam', 234242343]"
      ]
     },
     "execution_count": 10,
     "metadata": {},
     "output_type": "execute_result"
    }
   ],
   "source": [
    "data[1]"
   ]
  },
  {
   "cell_type": "code",
   "execution_count": 12,
   "metadata": {},
   "outputs": [
    {
     "name": "stdout",
     "output_type": "stream",
     "text": [
      "Enter n = 2\n",
      "Enter name = Ram\n",
      "Enter phone = 33534534\n",
      "Enter name = Shyam\n",
      "Enter phone = 33535354543\n",
      "Ram--33534534\n",
      "Shyam--33535354543\n",
      "\n"
     ]
    }
   ],
   "source": [
    "s = \"\"\n",
    "n = int(input(\"Enter n = \"))\n",
    "for i in range(n):\n",
    "    name = input(\"Enter name = \")\n",
    "    phone = int(input(\"Enter phone = \"))\n",
    "    info = f\"{name}--{phone}\\n\"\n",
    "    s = s+info\n",
    "print(s)"
   ]
  },
  {
   "cell_type": "code",
   "execution_count": 21,
   "metadata": {},
   "outputs": [
    {
     "data": {
      "text/plain": [
       "[['Ram', '33534534'], ['Shyam', '33535354543']]"
      ]
     },
     "execution_count": 21,
     "metadata": {},
     "output_type": "execute_result"
    }
   ],
   "source": [
    "y = []\n",
    "data = s.split('\\n')[0:-1]\n",
    "for i in data:\n",
    "    x = i.split('--')\n",
    "    y.append(x)\n",
    "    \n",
    "y"
   ]
  },
  {
   "cell_type": "code",
   "execution_count": 23,
   "metadata": {},
   "outputs": [
    {
     "data": {
      "text/plain": [
       "[['Apple'], ['Ball']]"
      ]
     },
     "execution_count": 23,
     "metadata": {},
     "output_type": "execute_result"
    }
   ],
   "source": [
    "a =[[\"Apple\"]]\n",
    "b = [[\"Ball\"]]\n",
    "a+b"
   ]
  },
  {
   "cell_type": "code",
   "execution_count": 25,
   "metadata": {},
   "outputs": [
    {
     "data": {
      "text/plain": [
       "[['Ant'], ['Ball']]"
      ]
     },
     "execution_count": 25,
     "metadata": {},
     "output_type": "execute_result"
    }
   ],
   "source": [
    "a = [['Apple'], ['Ball']]\n",
    "a[0] = [\"Ant\"]\n",
    "a"
   ]
  },
  {
   "cell_type": "code",
   "execution_count": 34,
   "metadata": {},
   "outputs": [
    {
     "name": "stdout",
     "output_type": "stream",
     "text": [
      "Enter name = nepal\n",
      "['Ram', 'Nepal', '33534534']\n"
     ]
    }
   ],
   "source": [
    "a = [['Ram',\"Nepal\",'33534534'], ['Shyam',\"USA\", '33535354543']]\n",
    "name = input(\"Enter name = \")\n",
    "for i in a:\n",
    "    if name.lower() in i[1].lower():\n",
    "        print(i)"
   ]
  },
  {
   "cell_type": "code",
   "execution_count": 2,
   "metadata": {},
   "outputs": [
    {
     "name": "stdout",
     "output_type": "stream",
     "text": [
      "Enter n = 2\n",
      "Enter name = Apple\n",
      "Enter price = 100\n",
      "Enter quantity 2\n",
      "Enter name = Banana\n",
      "Enter price = 200\n",
      "Enter quantity 3\n",
      "The billing is = \n",
      " [['Apple', 100, 2, 200], ['Banana', 200, 3, 600]]\n",
      "The total =  800\n"
     ]
    }
   ],
   "source": [
    "s = []\n",
    "all_total = 0\n",
    "n = int(input(\"Enter n = \"))\n",
    "for i in range(n):\n",
    "    product = input(\"Enter name = \")\n",
    "    price = int(input(\"Enter price = \"))\n",
    "    quantity = int(input(\"Enter quantity \"))\n",
    "    total = price*quantity\n",
    "    data = [[product,price,quantity,total]]\n",
    "    all_total = all_total+total\n",
    "    s = s+data\n",
    "print(\"The billing is = \\n\",s)\n",
    "print(\"The total = \",all_total)"
   ]
  },
  {
   "cell_type": "code",
   "execution_count": 1,
   "metadata": {},
   "outputs": [
    {
     "name": "stdout",
     "output_type": "stream",
     "text": [
      "Enter name = appl\n",
      "['Apple', 100, 2, 200]\n"
     ]
    }
   ],
   "source": [
    "a =  [['Apple', 100, 2, 200], ['Banana', 200, 3, 600]]\n",
    "name = input(\"Enter name = \")\n",
    "for i in a:\n",
    "    if name.lower() in i[0].lower():\n",
    "        print(i)"
   ]
  },
  {
   "cell_type": "code",
   "execution_count": 2,
   "metadata": {},
   "outputs": [
    {
     "name": "stdout",
     "output_type": "stream",
     "text": [
      "Enter name = milk\n",
      "Enter price = 100\n",
      "Enter quantity 3\n",
      "[['Apple', 100, 2, 200], ['Banana', 200, 3, 600], ['milk', 100, 3, 300]]\n"
     ]
    }
   ],
   "source": [
    "name = input(\"Enter name = \")\n",
    "price = int(input(\"Enter price = \"))\n",
    "quantity = int(input(\"Enter quantity \"))\n",
    "total = price*quantity\n",
    "a = [['Apple', 100, 2, 200], ['Banana', 200, 3, 600]]\n",
    "a.append([name,price,quantity,total])\n",
    "print(a)"
   ]
  },
  {
   "cell_type": "code",
   "execution_count": 6,
   "metadata": {},
   "outputs": [
    {
     "name": "stdout",
     "output_type": "stream",
     "text": [
      "Enter n = 2\n",
      "Enter name = Apple\n",
      "Enter price = 100\n",
      "Enter quantity 2\n",
      "Enter name = Banana\n",
      "Enter price = 200\n",
      "Enter quantity 3\n",
      "The billing is = \n",
      " [['Apple', 100, 2, 200], ['Banana', 200, 3, 600]]\n",
      "The total =  800\n"
     ]
    }
   ],
   "source": [
    "s = []\n",
    "all_total = 0\n",
    "n = int(input(\"Enter n = \"))\n",
    "for i in range(n):\n",
    "    product = input(\"Enter name = \")\n",
    "    price = int(input(\"Enter price = \"))\n",
    "    quantity = int(input(\"Enter quantity \"))\n",
    "    total = price*quantity\n",
    "    data = [[product,price,quantity,total]]\n",
    "    all_total = all_total+total\n",
    "    s = s+data\n",
    "print(\"The billing is = \\n\",s)\n",
    "print(\"The total = \",all_total)"
   ]
  },
  {
   "cell_type": "code",
   "execution_count": 7,
   "metadata": {},
   "outputs": [
    {
     "name": "stdout",
     "output_type": "stream",
     "text": [
      "Enter index = 1\n"
     ]
    }
   ],
   "source": [
    "index = int(input(\"Enter index = \"))\n",
    "del s[index]\n"
   ]
  },
  {
   "cell_type": "code",
   "execution_count": 9,
   "metadata": {},
   "outputs": [],
   "source": [
    "s =  [['Apple', 100, 2, 200], ['Banana', 200, 3, 600],['milk',100,3,300]]\n",
    "del s[1]\n"
   ]
  },
  {
   "cell_type": "code",
   "execution_count": 10,
   "metadata": {},
   "outputs": [
    {
     "data": {
      "text/plain": [
       "[['Apple', 100, 2, 200], ['milk', 100, 3, 300]]"
      ]
     },
     "execution_count": 10,
     "metadata": {},
     "output_type": "execute_result"
    }
   ],
   "source": [
    "s"
   ]
  },
  {
   "cell_type": "code",
   "execution_count": 18,
   "metadata": {},
   "outputs": [
    {
     "name": "stdout",
     "output_type": "stream",
     "text": [
      "200\n",
      "300\n"
     ]
    }
   ],
   "source": [
    "total = 0\n",
    "for i in s:\n",
    "\n",
    "    x = i[3]\n",
    "    total = total +x\n",
    "print(total)"
   ]
  },
  {
   "cell_type": "code",
   "execution_count": 19,
   "metadata": {},
   "outputs": [
    {
     "name": "stdout",
     "output_type": "stream",
     "text": [
      "Enter index = 0\n",
      "Enter quantity = 1\n",
      "[['Apple', 100, 1, 100], ['Banana', 200, 3, 600], ['milk', 100, 3, 300]]\n"
     ]
    }
   ],
   "source": [
    "s =  [['Apple', 100, 2, 200], ['Banana', 200, 3, 600],['milk',100,3,300]]\n",
    "index = int(input(\"Enter index = \"))\n",
    "quantity = int(input(\"Enter quantity = \"))\n",
    "total = s[index][1]*quantity\n",
    "\n",
    "\n",
    "s[index][2] = quantity\n",
    "s[index][3] = total\n",
    "print(\"The new billing is = \\n\",s)\n",
    "net_total = 0\n",
    "for i in s:\n",
    "\n",
    "    x = i[3]\n",
    "    net_total = net_total +x\n",
    "print(net_total)"
   ]
  },
  {
   "cell_type": "code",
   "execution_count": 20,
   "metadata": {},
   "outputs": [],
   "source": [
    "# a =  [['Apple', 100, 2, 200], ['Banana', 200, 3, 600]]\n",
    "# name = input(\"Enter name = \")\n",
    "# for i in a:\n",
    "#     if name.lower() in i[0].lower():\n",
    "#         print(i)"
   ]
  },
  {
   "cell_type": "code",
   "execution_count": 13,
   "metadata": {},
   "outputs": [
    {
     "name": "stdout",
     "output_type": "stream",
     "text": [
      "Enter i = 3\n",
      "Enter j = 2\n",
      "Enter x = 2\n",
      "Enter x = 5\n",
      "Enter x = 7\n",
      "Enter x = 8\n",
      "Enter x = 7\n",
      "Enter x = 5\n",
      "[2, 5]\n",
      "[7, 8]\n",
      "[7, 5]\n",
      "\n"
     ]
    }
   ],
   "source": [
    "# creating a matrix\n",
    "z = []\n",
    "b=\"\"\n",
    "d=\"\"\n",
    "r = int(input(\"Enter i = \"))\n",
    "c = int(input(\"Enter j = \"))\n",
    "for i in range(r):\n",
    "    y = []\n",
    "    for j in range(c):\n",
    "        x = int(input(\"Enter x = \"))\n",
    "        y.append(x)\n",
    "        b=(f\"{y}\\n\")\n",
    "    d = d + f\"{b}\"\n",
    "    \n",
    "    z.append(y)\n",
    "# print(z)\n",
    "print(d)\n"
   ]
  },
  {
   "cell_type": "code",
   "execution_count": 2,
   "metadata": {},
   "outputs": [
    {
     "name": "stdout",
     "output_type": "stream",
     "text": [
      "Enter i = 2\n",
      "Enter j = 2\n",
      "Enter x = 1\n",
      "Enter x = 2\n",
      "Enter x = 3\n",
      "Enter x = 4\n",
      "[1, 2]\n",
      "[3, 4]\n"
     ]
    }
   ],
   "source": [
    "# creating a matrix\n",
    "z = []\n",
    "# b=\"\"\n",
    "# d=\"\"\n",
    "r = int(input(\"Enter i = \"))\n",
    "c = int(input(\"Enter j = \"))\n",
    "for i in range(r):\n",
    "    y = []\n",
    "    for j in range(c):\n",
    "        x = int(input(\"Enter x = \"))\n",
    "        y.append(x)\n",
    "#         b=(f\"{y}\\n\")\n",
    "#     d = d + f\"{b}\"\n",
    "    \n",
    "    z.append(y)\n",
    "# print(z)\n",
    "for i in z:\n",
    "    \n",
    "    print(i)\n",
    "# print(d)\n"
   ]
  },
  {
   "cell_type": "markdown",
   "metadata": {},
   "source": [
    "#### "
   ]
  }
 ],
 "metadata": {
  "kernelspec": {
   "display_name": "Python 3",
   "language": "python",
   "name": "python3"
  },
  "language_info": {
   "codemirror_mode": {
    "name": "ipython",
    "version": 3
   },
   "file_extension": ".py",
   "mimetype": "text/x-python",
   "name": "python",
   "nbconvert_exporter": "python",
   "pygments_lexer": "ipython3",
   "version": "3.8.5"
  }
 },
 "nbformat": 4,
 "nbformat_minor": 2
}
