{
 "cells": [
  {
   "cell_type": "code",
   "execution_count": 3,
   "metadata": {},
   "outputs": [
    {
     "name": "stdout",
     "output_type": "stream",
     "text": [
      "enter how many student u want to enter = 1\n",
      "enter student name = qs\n",
      "enter english mask = 213\n",
      "enter math mask = 324\n",
      "enter science mask = 54\n",
      "enter nepali mask = 2\n",
      "enter social mask = 334\n",
      "name of student = qs\n",
      " english =213\n",
      " math=324\n",
      " science=54\n",
      " nepali=2\n",
      " social=334\n",
      "Total= 927\n",
      "fail\n",
      "percent= 185.4\n"
     ]
    }
   ],
   "source": [
    "n=int(input(\"enter how many student u want to enter = \"))\n",
    "for i in range(n):\n",
    "    name=input(\"enter student name = \")\n",
    "    english=int(input(\"enter english mask = \"))\n",
    "    math=int(input(\"enter math mask = \"))\n",
    "    science=int(input(\"enter science mask = \"))\n",
    "    nepali=int(input(\"enter nepali mask = \"))\n",
    "    social=int(input(\"enter social mask = \"))\n",
    "    masksheet=f\"name of student = {name}\\n english ={english}\\n math={math}\\n science={science}\\n nepali={nepali}\\n social={social}\"\n",
    "    print(masksheet)\n",
    "    total=english+math+science+nepali+social\n",
    "    print(\"Total=\",total)\n",
    "    percent=total/5\n",
    "    if english<40:\n",
    "        print(\"fail\")\n",
    "    elif math<40:\n",
    "        print(\"fail\")\n",
    "    elif science<40:\n",
    "        print(\"fail\")\n",
    "    elif nepali<40:\n",
    "        print(\"fail\")\n",
    "    elif social<40:\n",
    "        print(\"fail\")\n",
    "    else:\n",
    "        print(\"pass\")\n",
    "    print(\"percent=\",percent)\n",
    "    if percent<40:\n",
    "        print(\"fail\")\n",
    "    elif 40>percent<50:\n",
    "        print(\"grade c\")\n",
    "#     elif science<40:\n",
    "#         print(\"b\")\n",
    "#     elif nepali<40:grad a\n",
    "#         print(\"a\")\n",
    "#     elif <40:\n",
    "#         print(\"fail\")\n",
    "#     else:\n",
    "#         print(\"pass\")\n",
    "#     print(\"percent=\",percent)\n",
    "    \n",
    "    "
   ]
  },
  {
   "cell_type": "markdown",
   "metadata": {},
   "source": []
  },
  {
   "cell_type": "code",
   "execution_count": 2,
   "metadata": {},
   "outputs": [
    {
     "name": "stdout",
     "output_type": "stream",
     "text": [
      "Enter n = 1\n",
      "Enter name = sd\n",
      "Enter price = 55\n",
      "Enter quantity 2\n",
      "The billing is = \n",
      " sd 55 2 110\n",
      "\n",
      "The total =  110\n"
     ]
    }
   ],
   "source": [
    "# billimg\n",
    "s = \"\"\n",
    "all_total = 0\n",
    "n = int(input(\"Enter n = \"))\n",
    "for i in range(n):\n",
    "    product = input(\"Enter name = \")\n",
    "    price = int(input(\"Enter price = \"))\n",
    "    quantity = int(input(\"Enter quantity \"))\n",
    "    total = price*quantity\n",
    "    data = f\"{product} {price} {quantity} {total}\\n\"\n",
    "    all_total = all_total+total\n",
    "    s = s+data\n",
    "\n",
    "print(\"The billing is = \\n\",s)\n",
    "print(\"The total = \",all_total)"
   ]
  },
  {
   "cell_type": "code",
   "execution_count": null,
   "metadata": {},
   "outputs": [],
   "source": []
  }
 ],
 "metadata": {
  "kernelspec": {
   "display_name": "Python 3",
   "language": "python",
   "name": "python3"
  },
  "language_info": {
   "codemirror_mode": {
    "name": "ipython",
    "version": 3
   },
   "file_extension": ".py",
   "mimetype": "text/x-python",
   "name": "python",
   "nbconvert_exporter": "python",
   "pygments_lexer": "ipython3",
   "version": "3.8.5"
  }
 },
 "nbformat": 4,
 "nbformat_minor": 4
}
