{
 "cells": [
  {
   "cell_type": "code",
   "execution_count": 2,
   "metadata": {},
   "outputs": [
    {
     "name": "stdout",
     "output_type": "stream",
     "text": [
      "50\n",
      "100\n"
     ]
    }
   ],
   "source": [
    "def area(l,b):\n",
    "    a=l*b\n",
    "    return a\n",
    "def volume(l,b,h):\n",
    "    v=area(l,b)*h\n",
    "    return v\n",
    "l=10\n",
    "b=5\n",
    "h=2\n",
    "print(area(l,b))\n",
    "print(volume(l,h,b))\n"
   ]
  },
  {
   "cell_type": "code",
   "execution_count": 3,
   "metadata": {},
   "outputs": [
    {
     "ename": "SyntaxError",
     "evalue": "invalid syntax (<ipython-input-3-bf0dd88d8f6f>, line 5)",
     "output_type": "error",
     "traceback": [
      "\u001b[1;36m  File \u001b[1;32m\"<ipython-input-3-bf0dd88d8f6f>\"\u001b[1;36m, line \u001b[1;32m5\u001b[0m\n\u001b[1;33m    if x=='y'\u001b[0m\n\u001b[1;37m             ^\u001b[0m\n\u001b[1;31mSyntaxError\u001b[0m\u001b[1;31m:\u001b[0m invalid syntax\n"
     ]
    }
   ],
   "source": [
    "# recursive function\n",
    "def hello():\n",
    "    print(\"hello world\")\n",
    "    x=input(\"enter y for more print\")\n",
    "    if x=='y'\n",
    "hello()\n",
    "\n"
   ]
  },
  {
   "cell_type": "code",
   "execution_count": 5,
   "metadata": {},
   "outputs": [
    {
     "name": "stdout",
     "output_type": "stream",
     "text": [
      "enter5\n",
      "enter2\n",
      "enter7\n",
      "the value is  0.7\n",
      "eter y foe nxt timy\n",
      "enter5\n",
      "enter8\n",
      "enter9\n",
      "the value is  3.6\n",
      "eter y foe nxt tim\n"
     ]
    }
   ],
   "source": [
    "def hello():\n",
    "    p=float(input(\"enter\"))\n",
    "    t=float(input(\"enter\"))\n",
    "    r=float(input(\"enter\"))\n",
    "    i=p*t*r/100\n",
    "    print(\"the value is \",i)\n",
    "    x=input(\"eter y foe nxt tim\")\n",
    "    if x==\"y\":\n",
    "        hello()\n",
    "        \n",
    "hello()    "
   ]
  },
  {
   "cell_type": "code",
   "execution_count": 1,
   "metadata": {},
   "outputs": [
    {
     "name": "stdout",
     "output_type": "stream",
     "text": [
      "3.141592653589793\n"
     ]
    }
   ],
   "source": [
    "# math function\n",
    "import math as m\n",
    "print(m.pi)"
   ]
  },
  {
   "cell_type": "code",
   "execution_count": 1,
   "metadata": {},
   "outputs": [
    {
     "name": "stdout",
     "output_type": "stream",
     "text": [
      "enter r=8\n",
      "the area of crlcle is  201.06192982974676\n"
     ]
    }
   ],
   "source": [
    "import math as m\n",
    "r=int(input(\"enter r=\"))\n",
    "a=m.pi*m.pow(r,2)\n",
    "print(\"the area of crlcle is \",a)"
   ]
  },
  {
   "cell_type": "code",
   "execution_count": 2,
   "metadata": {},
   "outputs": [
    {
     "name": "stdout",
     "output_type": "stream",
     "text": [
      "1.0\n"
     ]
    }
   ],
   "source": [
    "import math as m\n",
    "a=m.pi/2\n",
    "print(m.sin(a))"
   ]
  },
  {
   "cell_type": "code",
   "execution_count": 3,
   "metadata": {},
   "outputs": [
    {
     "name": "stdout",
     "output_type": "stream",
     "text": [
      "1.0\n"
     ]
    }
   ],
   "source": [
    "import math as m\n",
    "a=m.sin(m.pi/2)\n",
    "b=m.cos(m.pi/2)\n",
    "c=m.pow(a,2)+m.pow(b,2)\n",
    "print(c)"
   ]
  },
  {
   "cell_type": "code",
   "execution_count": null,
   "metadata": {},
   "outputs": [],
   "source": []
  }
 ],
 "metadata": {
  "kernelspec": {
   "display_name": "Python 3",
   "language": "python",
   "name": "python3"
  },
  "language_info": {
   "codemirror_mode": {
    "name": "ipython",
    "version": 3
   },
   "file_extension": ".py",
   "mimetype": "text/x-python",
   "name": "python",
   "nbconvert_exporter": "python",
   "pygments_lexer": "ipython3",
   "version": "3.8.5"
  }
 },
 "nbformat": 4,
 "nbformat_minor": 4
}
