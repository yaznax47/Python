{
 "cells": [
  {
   "cell_type": "code",
   "execution_count": 8,
   "metadata": {},
   "outputs": [
    {
     "name": "stdout",
     "output_type": "stream",
     "text": [
      "{'ram': {'ntc': 9841151814, 'ncell': 980254878}, 'sam': {'ntc': 9841555584, 'ncell': 980888888}}\n"
     ]
    }
   ],
   "source": [
    "# distionary inside dis\n",
    "a={\"ram\":{\"ntc\":9841151814,\"ncell\":980254878},\"sam\":{\"ntc\":9841555584,\"ncell\":980888888}}\n",
    "print(a)\n",
    "\n"
   ]
  },
  {
   "cell_type": "code",
   "execution_count": 10,
   "metadata": {},
   "outputs": [
    {
     "name": "stdout",
     "output_type": "stream",
     "text": [
      "('ram', {'ntc': 9841151814, 'ncell': 980254878})\n",
      "('sam', {'ntc': 9841555584, 'ncell': 980888888})\n"
     ]
    }
   ],
   "source": [
    "for i in a.items():\n",
    "    print(i)"
   ]
  },
  {
   "cell_type": "code",
   "execution_count": 11,
   "metadata": {},
   "outputs": [
    {
     "name": "stdout",
     "output_type": "stream",
     "text": [
      "{'ntc': 9841151814, 'ncell': 980254878}\n",
      "{'ntc': 9841555584, 'ncell': 980888888}\n"
     ]
    }
   ],
   "source": [
    "for i in a.values():\n",
    "    print(i)"
   ]
  },
  {
   "cell_type": "code",
   "execution_count": 2,
   "metadata": {},
   "outputs": [
    {
     "data": {
      "text/plain": [
       "{'ram': {'ntc': 9841151814, 'ncell': 980254878},\n",
       " 'sam': {'ntc': 9841555584, 'ncell': 980888888},\n",
       " 'hari': {'ntc': 9841151814, 'ncell': 980254878}}"
      ]
     },
     "execution_count": 2,
     "metadata": {},
     "output_type": "execute_result"
    }
   ],
   "source": [
    "a={\"ram\":{\"ntc\":9841151814,\"ncell\":980254878},\"sam\":{\"ntc\":9841555584,\"ncell\":980888888}}\n",
    "\n",
    "a['hari']={'ntc': 9841151814, 'ncell': 980254878}\n",
    "a"
   ]
  },
  {
   "cell_type": "code",
   "execution_count": 3,
   "metadata": {},
   "outputs": [
    {
     "data": {
      "text/plain": [
       "{'ram': {'ntc': 9841151814, 'ncell': 980254878},\n",
       " 'sam': {'ntc': 9841555584, 'ncell': 980888888},\n",
       " 'hari': {'ntc': 98411, 'ncell': 980254878}}"
      ]
     },
     "execution_count": 3,
     "metadata": {},
     "output_type": "execute_result"
    }
   ],
   "source": [
    "a['hari']['ntc']= 98411\n",
    "a\n"
   ]
  },
  {
   "cell_type": "code",
   "execution_count": 7,
   "metadata": {},
   "outputs": [
    {
     "data": {
      "text/plain": [
       "{('aaple', 'ant'): 'a'}"
      ]
     },
     "execution_count": 7,
     "metadata": {},
     "output_type": "execute_result"
    }
   ],
   "source": [
    "a={(\"aaple\",\"ant\"):\"a\"}\n",
    "a"
   ]
  },
  {
   "cell_type": "code",
   "execution_count": null,
   "metadata": {},
   "outputs": [],
   "source": []
  },
  {
   "cell_type": "code",
   "execution_count": null,
   "metadata": {},
   "outputs": [],
   "source": []
  }
 ],
 "metadata": {
  "kernelspec": {
   "display_name": "Python 3",
   "language": "python",
   "name": "python3"
  },
  "language_info": {
   "codemirror_mode": {
    "name": "ipython",
    "version": 3
   },
   "file_extension": ".py",
   "mimetype": "text/x-python",
   "name": "python",
   "nbconvert_exporter": "python",
   "pygments_lexer": "ipython3",
   "version": "3.8.5"
  }
 },
 "nbformat": 4,
 "nbformat_minor": 4
}
