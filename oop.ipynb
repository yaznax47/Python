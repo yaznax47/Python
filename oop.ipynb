{
 "cells": [
  {
   "cell_type": "code",
   "execution_count": 1,
   "metadata": {},
   "outputs": [],
   "source": [
    "class Hello:\n",
    "    pass\n",
    "obj = Hello()"
   ]
  },
  {
   "cell_type": "code",
   "execution_count": 2,
   "metadata": {},
   "outputs": [
    {
     "name": "stdout",
     "output_type": "stream",
     "text": [
      "Hello World\n"
     ]
    }
   ],
   "source": [
    "class Hello:\n",
    "    print(\"Hello World\")\n",
    "obj = Hello()"
   ]
  },
  {
   "cell_type": "code",
   "execution_count": 4,
   "metadata": {},
   "outputs": [
    {
     "name": "stdout",
     "output_type": "stream",
     "text": [
      "Hello World\n"
     ]
    }
   ],
   "source": [
    "class Hello:\n",
    "    def hello(self):\n",
    "        print(\"Hello World\")\n",
    "        \n",
    "obj = Hello()\n",
    "obj.hello()"
   ]
  },
  {
   "cell_type": "code",
   "execution_count": 6,
   "metadata": {},
   "outputs": [
    {
     "name": "stdout",
     "output_type": "stream",
     "text": [
      "Hello World\n"
     ]
    }
   ],
   "source": [
    "class Hello:\n",
    "    def hello(self,x):\n",
    "        print(x)\n",
    "        \n",
    "obj = Hello()\n",
    "obj.hello(\"Hello World\")"
   ]
  },
  {
   "cell_type": "code",
   "execution_count": 7,
   "metadata": {},
   "outputs": [
    {
     "name": "stdout",
     "output_type": "stream",
     "text": [
      "Enter l = 10\n",
      "Enter b = 2\n",
      "Enter h = 3\n",
      "The area is =  20\n",
      "The volume is =  60\n"
     ]
    }
   ],
   "source": [
    "class Cal:\n",
    "    def area(self,l,b):\n",
    "        a = l*b\n",
    "        print(\"The area is = \",a)\n",
    "    def volume(self,l,b,h):\n",
    "        v = l*b*h\n",
    "        print(\"The volume is = \",v)\n",
    "    \n",
    "obj = Cal()\n",
    "l = int(input(\"Enter l = \"))\n",
    "b = int(input(\"Enter b = \"))\n",
    "h = int(input(\"Enter h = \"))\n",
    "obj.area(l,b)\n",
    "obj.volume(l,b,h)"
   ]
  },
  {
   "cell_type": "code",
   "execution_count": null,
   "metadata": {},
   "outputs": [],
   "source": [
    "class Area:\n",
    "    def area(self,l,b):\n",
    "        a = l*b\n",
    "        print(\"The area is = \",a)\n",
    "        \n",
    "class Volume:\n",
    "    def volume(self,l,b,h):\n",
    "        v = l*b*h\n",
    "        print(\"The volume is = \",v)\n",
    "    \n",
    "obj = Area()\n",
    "obj1 = Volume()\n",
    "\n",
    "l = int(input(\"Enter l = \"))\n",
    "b = int(input(\"Enter b = \"))\n",
    "h = int(input(\"Enter h = \"))\n",
    "obj.area(l,b)\n",
    "obj1.volume(l,b,h)"
   ]
  },
  {
   "cell_type": "code",
   "execution_count": 9,
   "metadata": {},
   "outputs": [
    {
     "name": "stdout",
     "output_type": "stream",
     "text": [
      "Enter l = 100\n",
      "Enter b = 2\n",
      "Enter h = 3\n",
      "The area is =  200\n",
      "The volume is =  600\n"
     ]
    }
   ],
   "source": [
    "class Cal:\n",
    "    def __init__(self,l,b,h):\n",
    "        self.x = l\n",
    "        self.y = b\n",
    "        self.z = h\n",
    "        \n",
    "    def area(self):\n",
    "        a = self.x*self.y\n",
    "        print(\"The area is = \",a)\n",
    "    def volume(this):\n",
    "        v = this.x*this.y*this.z\n",
    "        print(\"The volume is = \",v)\n",
    "    \n",
    "\n",
    "l = int(input(\"Enter l = \"))\n",
    "b = int(input(\"Enter b = \"))\n",
    "h = int(input(\"Enter h = \"))\n",
    "\n",
    "obj = Cal(l,b,h)\n",
    "obj.area()\n",
    "obj.volume()"
   ]
  },
  {
   "cell_type": "code",
   "execution_count": null,
   "metadata": {},
   "outputs": [],
   "source": [
    "class Cal:\n",
    "    def __init__(self,l,b):\n",
    "        self.x = l\n",
    "        self.y = b\n",
    "        \n",
    "    def area(self):\n",
    "        a = self.x*self.y\n",
    "        print(\"The area is = \",a)\n",
    "    def volume(this,z):\n",
    "        v = this.x*this.y*z\n",
    "        print(\"The volume is = \",v)\n",
    "    \n",
    "\n",
    "l = int(input(\"Enter l = \"))\n",
    "b = int(input(\"Enter b = \"))\n",
    "h = int(input(\"Enter h = \"))\n",
    "\n",
    "obj = Cal(l,b)\n",
    "obj.area()\n",
    "obj.volume(h)"
   ]
  },
  {
   "cell_type": "code",
   "execution_count": null,
   "metadata": {},
   "outputs": [],
   "source": [
    "class Area:\n",
    "    def __init__(self,l,b):\n",
    "        self.x = l\n",
    "        self.y = b\n",
    "        \n",
    "    def area(self):\n",
    "        a = self.x*self.y\n",
    "        print(\"The area is = \",a)\n",
    "        \n",
    "class Volume:\n",
    "    def __init__(self,l,b,h):\n",
    "        self.x = l\n",
    "        self.y = b\n",
    "        self.z = h\n",
    "    def volume(this):\n",
    "        v = this.x*this.y*this.z\n",
    "        print(\"The volume is = \",v)\n",
    "    \n",
    "\n",
    "l = int(input(\"Enter l = \"))\n",
    "b = int(input(\"Enter b = \"))\n",
    "h = int(input(\"Enter h = \"))\n",
    "\n",
    "obj = Area(l,b)\n",
    "obj1 = Volume(l,b,h)\n",
    "obj.area()\n",
    "obj1.volume()"
   ]
  },
  {
   "cell_type": "code",
   "execution_count": 13,
   "metadata": {},
   "outputs": [
    {
     "name": "stdout",
     "output_type": "stream",
     "text": [
      "Ram Nepal\n"
     ]
    }
   ],
   "source": [
    "class Info:\n",
    "    def __init__(self,name,age,address):\n",
    "        self.name = name\n",
    "        self.age = age\n",
    "        self.address = address\n",
    "    def __str__(self):\n",
    "        return f\"{self.name} {self.address}\"\n",
    "name = \"Ram\"\n",
    "age = 56\n",
    "address = \"Nepal\"\n",
    "obj = Info(name,age,address)\n",
    "print(obj)\n",
    "print(obj.__str__())\n",
    "print(str(obj))"
   ]
  },
  {
   "cell_type": "code",
   "execution_count": 14,
   "metadata": {},
   "outputs": [
    {
     "name": "stdout",
     "output_type": "stream",
     "text": [
      "{'Name': 'Ram', 'Address': 'Nepal'}\n"
     ]
    }
   ],
   "source": [
    "class Info:\n",
    "    def __init__(self,name,age,address):\n",
    "        self.name = name\n",
    "        self.age = age\n",
    "        self.address = address\n",
    "    def __repr__(self):\n",
    "        return {\"Name\":self.name,\"Address\":self.address}\n",
    "name = \"Ram\"\n",
    "age = 56\n",
    "address = \"Nepal\"\n",
    "obj = Info(name,age,address)\n",
    "\n",
    "print(obj.__repr__())\n"
   ]
  },
  {
   "cell_type": "code",
   "execution_count": null,
   "metadata": {},
   "outputs": [],
   "source": []
  }
 ],
 "metadata": {
  "kernelspec": {
   "display_name": "Python 3",
   "language": "python",
   "name": "python3"
  },
  "language_info": {
   "codemirror_mode": {
    "name": "ipython",
    "version": 3
   },
   "file_extension": ".py",
   "mimetype": "text/x-python",
   "name": "python",
   "nbconvert_exporter": "python",
   "pygments_lexer": "ipython3",
   "version": "3.7.1"
  }
 },
 "nbformat": 4,
 "nbformat_minor": 2
}
