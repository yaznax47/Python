{
 "cells": [
  {
   "cell_type": "code",
   "execution_count": 7,
   "metadata": {},
   "outputs": [
    {
     "name": "stdout",
     "output_type": "stream",
     "text": [
      "hello i am Ram. i am 67 years old.\n",
      "Shyam 57\n"
     ]
    }
   ],
   "source": [
    "class Profile:\n",
    "    def __init__(self,name,age):\n",
    "        self.name=name\n",
    "        self.age=age\n",
    "    \n",
    "class Hr(Profile):\n",
    "    def hello(self):\n",
    "        print(f\"hello i am {self.name}. i am {self.age} years old.\")\n",
    "obj=Hr(\"Ram\",67)\n",
    "obj.hello()\n",
    "obj1=Profile(\"Shyam\",57)\n",
    "print(obj1.name,obj1.age)"
   ]
  },
  {
   "cell_type": "code",
   "execution_count": 10,
   "metadata": {},
   "outputs": [
    {
     "name": "stdout",
     "output_type": "stream",
     "text": [
      "this is  class a\n",
      "this is  class b\n",
      "this is  class c\n"
     ]
    }
   ],
   "source": [
    "class A:\n",
    "    print(\"this is  class a\")\n",
    "class B(A):\n",
    "    print(\"this is  class b\")\n",
    "class C(A):\n",
    "    print(\"this is  class c\")\n",
    "obj=C()\n",
    "    "
   ]
  },
  {
   "cell_type": "code",
   "execution_count": 2,
   "metadata": {},
   "outputs": [
    {
     "name": "stdout",
     "output_type": "stream",
     "text": [
      "hello i am Ram. i am 67 years old.\n",
      "Ram 67\n",
      "Shyam 57\n"
     ]
    }
   ],
   "source": [
    "class Profile:\n",
    "    def __init__(self,name,age):\n",
    "        self.name=name\n",
    "        self.age=age\n",
    "class Office(Profile):\n",
    "    def office(self):\n",
    "        print(self.name,self.age)\n",
    "        \n",
    "class Hr(Office):\n",
    "    def hello(self):\n",
    "        print(f\"hello i am {self.name}. i am {self.age} years old.\")\n",
    "obj=Hr(\"Ram\",67)\n",
    "obj.hello()\n",
    "obj.office()\n",
    "obj1=Profile(\"Shyam\",57)\n",
    "print(obj1.name,obj1.age)"
   ]
  },
  {
   "cell_type": "markdown",
   "metadata": {},
   "source": [
    "## class Profile:\n",
    "    def __init__(self,age):\n",
    "        self.age=age\n",
    "class Office(Profile):\n",
    "    def __init__(self,name,age):\n",
    "        self.name=name\n",
    "        Profile.__init__(self,age)\n",
    "\n",
    "    def office(self,name):\n",
    "        print(self.name)\n",
    "        \n",
    "class Hr(Office):\n",
    "    def hello(self):\n",
    "        print(f\"hello i am {self.name}. i am {self.age} years old.\")\n",
    "obj=Hr(\"Ram\",67)\n",
    "obj.hello()\n",
    "obj.office()\n"
   ]
  },
  {
   "cell_type": "code",
   "execution_count": null,
   "metadata": {},
   "outputs": [],
   "source": []
  }
 ],
 "metadata": {
  "kernelspec": {
   "display_name": "Python 3",
   "language": "python",
   "name": "python3"
  },
  "language_info": {
   "codemirror_mode": {
    "name": "ipython",
    "version": 3
   },
   "file_extension": ".py",
   "mimetype": "text/x-python",
   "name": "python",
   "nbconvert_exporter": "python",
   "pygments_lexer": "ipython3",
   "version": "3.8.5"
  }
 },
 "nbformat": 4,
 "nbformat_minor": 4
}
