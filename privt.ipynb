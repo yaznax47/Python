{
 "cells": [
  {
   "cell_type": "code",
   "execution_count": 4,
   "metadata": {},
   "outputs": [
    {
     "name": "stdout",
     "output_type": "stream",
     "text": [
      "ram\n",
      "16\n",
      "ktm\n"
     ]
    }
   ],
   "source": [
    "class Info:\n",
    "    def __init__(self,name,age,add):\n",
    "        \n",
    "        self.name=name\n",
    "        self.age=age\n",
    "        self.add=add\n",
    "obj=Info(\"ram\",\"16\",\"ktm\")\n",
    "print(obj.name)\n",
    "print(obj.age)\n",
    "print(obj.add)\n"
   ]
  },
  {
   "cell_type": "code",
   "execution_count": 6,
   "metadata": {},
   "outputs": [
    {
     "name": "stdout",
     "output_type": "stream",
     "text": [
      "ram\n",
      "16\n",
      "ktm\n"
     ]
    }
   ],
   "source": [
    "# protected\n",
    "class Info:\n",
    "    def __init__(self,name,age,add):\n",
    "        \n",
    "        self._name=name\n",
    "        self._age=age\n",
    "        self._add=add\n",
    "obj=Info(\"ram\",\"16\",\"ktm\")\n",
    "print(obj._name)\n",
    "print(obj._age)\n",
    "print(obj._add)\n"
   ]
  },
  {
   "cell_type": "code",
   "execution_count": 4,
   "metadata": {},
   "outputs": [
    {
     "name": "stdout",
     "output_type": "stream",
     "text": [
      "ram\n",
      "16\n",
      "ktm\n"
     ]
    }
   ],
   "source": [
    "# private\n",
    "class Info:\n",
    "    def __init__(self,name,age,add):\n",
    "        self.__name=name\n",
    "        self.__age=age\n",
    "        self.__add=add\n",
    "obj=Info(\"ram\",\"16\",\"ktm\")\n",
    "print(obj._Info__name)\n",
    "print(obj._Info__age)\n",
    "print(obj._Info__add)"
   ]
  },
  {
   "cell_type": "code",
   "execution_count": 17,
   "metadata": {},
   "outputs": [
    {
     "name": "stdout",
     "output_type": "stream",
     "text": [
      "Hello I am Ram.I am 67 years old.\n",
      "Ram 67\n",
      "Shyam 34\n"
     ]
    }
   ],
   "source": [
    "class Profile:\n",
    "    def __init__(self,name,age):\n",
    "        self._name = name\n",
    "        self.__age = age\n",
    "        \n",
    "class Office(Profile):\n",
    "    def office(self):\n",
    "        print(self._name,self._Profile__age)\n",
    "        \n",
    "class Hr(Office):\n",
    "    def hello(self):\n",
    "        print(f\"Hello I am {self._name}.I am {self._Profile__age} years old.\")\n",
    "        \n",
    "obj = Hr(\"Ram\",67)\n",
    "obj.hello()\n",
    "obj.office()\n",
    "obj1 = Profile(\"Shyam\",34)\n",
    "print(obj1._name,obj1._Profile__age)"
   ]
  },
  {
   "cell_type": "code",
   "execution_count": 1,
   "metadata": {},
   "outputs": [
    {
     "name": "stdout",
     "output_type": "stream",
     "text": [
      "Hello I am Ram.I am 67 years old.\n",
      "Ram 67\n",
      "Shyam 34\n"
     ]
    }
   ],
   "source": [
    "class Profile:\n",
    "    def __init__(self,name,age):\n",
    "        self._name = name\n",
    "        self.__age = age\n",
    "    def ages(self):\n",
    "        return self.__age\n",
    "    def names(self):\n",
    "        return self._name\n",
    "class Office(Profile):\n",
    "    def office(self):\n",
    "        print(self._name,self._Profile__age)\n",
    "        \n",
    "class Hr(Office):\n",
    "    def hello(self):\n",
    "        print(f\"Hello I am {super().names()}.I am {super().ages()} years old.\")\n",
    "        \n",
    "obj = Hr(\"Ram\",67)\n",
    "obj.hello()\n",
    "obj.office()\n",
    "obj1 = Profile(\"Shyam\",34)\n",
    "print(obj1._name,obj1._Profile__age)"
   ]
  },
  {
   "cell_type": "code",
   "execution_count": null,
   "metadata": {},
   "outputs": [],
   "source": []
  }
 ],
 "metadata": {
  "kernelspec": {
   "display_name": "Python 3",
   "language": "python",
   "name": "python3"
  },
  "language_info": {
   "codemirror_mode": {
    "name": "ipython",
    "version": 3
   },
   "file_extension": ".py",
   "mimetype": "text/x-python",
   "name": "python",
   "nbconvert_exporter": "python",
   "pygments_lexer": "ipython3",
   "version": "3.8.5"
  }
 },
 "nbformat": 4,
 "nbformat_minor": 4
}
