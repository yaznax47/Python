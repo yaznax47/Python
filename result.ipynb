{
 "cells": [
  {
   "cell_type": "code",
   "execution_count": null,
   "metadata": {},
   "outputs": [],
   "source": [
    "n=int(input(\"enter n=\"))\n",
    "for i in range(n):\n",
    "    name=input(\"enter name=\")\n",
    "    ebhlis=input(\"enter pone=\")\n",
    "    math=input(\"enter add=\")\n",
    "    nepal=input(\"enter add=\")\n",
    "    \n",
    "    info=f\"{name}--{phone}--{add}\\n\"\n",
    "    s=s+info\n",
    "print(s)"
   ]
  }
 ],
 "metadata": {
  "kernelspec": {
   "display_name": "Python 3",
   "language": "python",
   "name": "python3"
  },
  "language_info": {
   "codemirror_mode": {
    "name": "ipython",
    "version": 3
   },
   "file_extension": ".py",
   "mimetype": "text/x-python",
   "name": "python",
   "nbconvert_exporter": "python",
   "pygments_lexer": "ipython3",
   "version": "3.8.5"
  }
 },
 "nbformat": 4,
 "nbformat_minor": 4
}
