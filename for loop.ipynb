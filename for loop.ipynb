{
 "cells": [
  {
   "cell_type": "code",
   "execution_count": null,
   "metadata": {},
   "outputs": [],
   "source": [
    "# range(5)\n",
    "# range(1,5)"
   ]
  },
  {
   "cell_type": "code",
   "execution_count": null,
   "metadata": {},
   "outputs": [],
   "source": [
    "# for(i-0;i<5;i++)\n",
    "for i in range (5):\n",
    "    print(i,\"helo eorld\")"
   ]
  },
  {
   "cell_type": "code",
   "execution_count": null,
   "metadata": {},
   "outputs": [],
   "source": [
    "# for(i-0;i<5;i++)\n",
    "for i in range (1,5):\n",
    "    print(i,\"helo eorld\")"
   ]
  },
  {
   "cell_type": "code",
   "execution_count": null,
   "metadata": {},
   "outputs": [],
   "source": [
    "# for(i-1;i<5;i+2)\n",
    "for i in range (1,5,2):\n",
    "    print(i,\"helo eorld\")"
   ]
  },
  {
   "cell_type": "code",
   "execution_count": null,
   "metadata": {},
   "outputs": [],
   "source": [
    "s=0\n",
    "n=int(input(\"entr value\"))\n",
    "for i in range(n):\n",
    "    x=int(input(\"enterx =\"))\n",
    "    s=s+x\n",
    "print(s)"
   ]
  },
  {
   "cell_type": "code",
   "execution_count": null,
   "metadata": {},
   "outputs": [],
   "source": [
    "n=int(input(\"enter the bvali\"))\n",
    "for i in range(1,11):\n",
    "    print(n,\"*\",i,\"*\",n*i)"
   ]
  },
  {
   "cell_type": "code",
   "execution_count": null,
   "metadata": {},
   "outputs": [],
   "source": [
    "s=\"\"\n",
    "n=int(input(\"entr value\"))\n",
    "for i in range(n):\n",
    "    x=input(\"enterx =\")\n",
    "    s=s+x\n",
    "print(s)"
   ]
  },
  {
   "cell_type": "code",
   "execution_count": 1,
   "metadata": {},
   "outputs": [
    {
     "name": "stdout",
     "output_type": "stream",
     "text": [
      "entr value n= 2\n",
      "enterx =45\n",
      "enterx =5\n",
      "enterx =5\n",
      "enterx =5\n",
      "455\n",
      "55\n",
      "\n"
     ]
    }
   ],
   "source": [
    "s=\"\"\n",
    "n=int(input(\"entr value n= \"))\n",
    "for i in range(n):\n",
    "    name=input(\"enterx =\")\n",
    "    phone=input(\"enterx =\")\n",
    "    s=s+name+\"\"+ phone+\"\\n\"\n",
    "print(s)"
   ]
  },
  {
   "cell_type": "code",
   "execution_count": 2,
   "metadata": {},
   "outputs": [
    {
     "name": "stdout",
     "output_type": "stream",
     "text": [
      "entr value n= 2\n",
      "enterx =as\n",
      "enterx =555\n",
      "error\n",
      "enterx =hgbh\n",
      "enterx =hin\n",
      "error\n",
      "\n"
     ]
    }
   ],
   "source": [
    "s=\"\"\n",
    "n=int(input(\"entr value n= \"))\n",
    "for i in range(n):\n",
    "    name=input(\"enterx =\")\n",
    "    phone=int(input(\"enterx =\"))\n",
    "    if len(phone)==10:\n",
    "        s=s+name+\"\"+ phone+\"\\n\"\n",
    "    else:\n",
    "        print(\"error\")\n",
    "print(s)"
   ]
  },
  {
   "cell_type": "code",
   "execution_count": 5,
   "metadata": {},
   "outputs": [
    {
     "name": "stdout",
     "output_type": "stream",
     "text": [
      "enter n =4\n",
      "24\n"
     ]
    }
   ],
   "source": [
    "fac =1\n",
    "n=int(input(\"enter n =\"))\n",
    "for i in range(1,n+1):\n",
    "    fac=fac*i\n",
    "print(fac)"
   ]
  },
  {
   "cell_type": "code",
   "execution_count": 10,
   "metadata": {},
   "outputs": [
    {
     "name": "stdout",
     "output_type": "stream",
     "text": [
      "5 helo\n",
      "4 helo\n",
      "3 helo\n",
      "2 helo\n",
      "1 helo\n"
     ]
    }
   ],
   "source": [
    "for i in range(5,0,-1):\n",
    "    print(i,\"helo\")"
   ]
  },
  {
   "cell_type": "code",
   "execution_count": 25,
   "metadata": {},
   "outputs": [
    {
     "name": "stdout",
     "output_type": "stream",
     "text": [
      "n\n",
      "\t\n",
      "o\n",
      "\t\n",
      "t\n",
      "\t\n",
      "y\n",
      "\t\n",
      "h\n",
      "\t\n",
      "p\n",
      "\t\n"
     ]
    }
   ],
   "source": [
    "a=\"phyton\"\n",
    "for i in range(5,-1,-1):\n",
    "    print(a[i],end=\"\\n\\t\\n\")"
   ]
  },
  {
   "cell_type": "code",
   "execution_count": 39,
   "metadata": {},
   "outputs": [
    {
     "name": "stdout",
     "output_type": "stream",
     "text": [
      "lololo"
     ]
    }
   ],
   "source": [
    "# for each loop\n",
    "a=(\"python\",\"pyth\",\"py\")\n",
    "for i in a:\n",
    "    print(\"lo\",end=\"\")"
   ]
  },
  {
   "cell_type": "code",
   "execution_count": null,
   "metadata": {},
   "outputs": [],
   "source": []
  }
 ],
 "metadata": {
  "kernelspec": {
   "display_name": "Python 3",
   "language": "python",
   "name": "python3"
  },
  "language_info": {
   "codemirror_mode": {
    "name": "ipython",
    "version": 3
   },
   "file_extension": ".py",
   "mimetype": "text/x-python",
   "name": "python",
   "nbconvert_exporter": "python",
   "pygments_lexer": "ipython3",
   "version": "3.8.5"
  }
 },
 "nbformat": 4,
 "nbformat_minor": 4
}
