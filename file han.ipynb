{
 "cells": [
  {
   "cell_type": "code",
   "execution_count": 1,
   "metadata": {},
   "outputs": [
    {
     "name": "stdout",
     "output_type": "stream",
     "text": [
      "the file already there\n"
     ]
    }
   ],
   "source": [
    "try:\n",
    "    b=open(\"class1.30.txt\",\"x\")\n",
    "    x.close()\n",
    "except:\n",
    "    print(\"the file already there\")\n",
    "    "
   ]
  },
  {
   "cell_type": "code",
   "execution_count": 11,
   "metadata": {},
   "outputs": [
    {
     "name": "stdout",
     "output_type": "stream",
     "text": [
      "\n",
      "class1.30.txt\"class1.30.txt\"class1.30.txt\"\n",
      "class1.30.txt\"class1.30.txt\"class1.30.txt\"\n",
      "class1.30.txt\"class1.30.txt\"class1.30.txt\"\n",
      "class1.30.txt\"class1.30.txt\"class1.30.txt\"\n",
      "class1.30.txt\"class1.30.txt\"\n",
      "\n",
      "<class 'str'>\n"
     ]
    }
   ],
   "source": [
    "b = open(\"class1.30.txt\",\"r\")\n",
    "c=b.read()\n",
    "print(c)\n",
    "print(type(c))\n",
    "b.close()"
   ]
  },
  {
   "cell_type": "code",
   "execution_count": 15,
   "metadata": {},
   "outputs": [
    {
     "name": "stdout",
     "output_type": "stream",
     "text": [
      "class1.30.txt\"class1.30.txt\"class1.30.txt\"\n",
      "\n"
     ]
    }
   ],
   "source": [
    "b = open(\"class1.30.txt\",\"r\")\n",
    "c=b.readline()\n",
    "print(c)\n",
    "\n",
    "b.close()"
   ]
  },
  {
   "cell_type": "code",
   "execution_count": 29,
   "metadata": {},
   "outputs": [
    {
     "name": "stdout",
     "output_type": "stream",
     "text": [
      "['class1.30.txt\"class1.30.txt\"class1.30.txt\"', 'class1.30.txt\"class1.30.txt\"class1.30.txt\"', 'class1.30.txt\"class1.30.txt\"class1.30.txt\"', 'class1.30.txt\"class1.30.txt\"class1.30.txt\"', 'class1.30.txt\"class1.30.txt\"', '']\n"
     ]
    }
   ],
   "source": [
    "b = open(\"class1.30.txt\",\"r\")\n",
    "c=b.read()\n",
    "print(c.split(\"\\n\"))\n",
    "d=c.split(\"\\n\")\n",
    "b.close()\n"
   ]
  },
  {
   "cell_type": "code",
   "execution_count": null,
   "metadata": {},
   "outputs": [],
   "source": [
    "c[50::-1]"
   ]
  },
  {
   "cell_type": "code",
   "execution_count": 2,
   "metadata": {},
   "outputs": [
    {
     "name": "stdout",
     "output_type": "stream",
     "text": [
      "enter n=3\n",
      "class1.30.txt\"class1.30.txt\"class1.30.txt\"\n",
      "\n"
     ]
    }
   ],
   "source": [
    "b = open(\"class1.30.txt\",\"r\")\n",
    "n=int(input(\"enter n=\"))\n",
    "for i in range(1,10):\n",
    "    if i !=n:\n",
    "        b.readline()\n",
    "    else:\n",
    "        print(b.readline())\n",
    "        \n",
    "b.close()\n"
   ]
  },
  {
   "cell_type": "code",
   "execution_count": 20,
   "metadata": {},
   "outputs": [
    {
     "name": "stdout",
     "output_type": "stream",
     "text": [
      "enter n=2\n",
      "enter name=wdfdds\n",
      "enter num=343\n",
      "enter name=dfdf\n",
      "enter num=454\n",
      "wdfdds,343\n",
      "dfdf,454\n",
      "\n"
     ]
    }
   ],
   "source": [
    "b = open(\"data.csv\",\"w\")\n",
    "b.write(\"name,phone\\n\")\n",
    "\n",
    "s=\"\"\n",
    "n=int(input(\"enter n=\"))\n",
    "for i in range(n):\n",
    "    name=input(\"enter name=\")\n",
    "    phone=int(input(\"enter num=\"))\n",
    "    info=f\"{name},{phone}\\n\"\n",
    "    s=s+info\n",
    "print(s)\n",
    "\n",
    "b.write(s)\n",
    "b.close()"
   ]
  },
  {
   "cell_type": "code",
   "execution_count": null,
   "metadata": {},
   "outputs": [],
   "source": []
  }
 ],
 "metadata": {
  "kernelspec": {
   "display_name": "Python 3",
   "language": "python",
   "name": "python3"
  },
  "language_info": {
   "codemirror_mode": {
    "name": "ipython",
    "version": 3
   },
   "file_extension": ".py",
   "mimetype": "text/x-python",
   "name": "python",
   "nbconvert_exporter": "python",
   "pygments_lexer": "ipython3",
   "version": "3.8.5"
  }
 },
 "nbformat": 4,
 "nbformat_minor": 4
}
