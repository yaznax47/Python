{
 "cells": [
  {
   "cell_type": "code",
   "execution_count": 1,
   "metadata": {},
   "outputs": [
    {
     "name": "stdout",
     "output_type": "stream",
     "text": [
      "helo world\n",
      "<class 'str'>\n"
     ]
    }
   ],
   "source": [
    "a=\"helo world\"\n",
    "print(a)\n",
    "print(type(a))"
   ]
  },
  {
   "cell_type": "code",
   "execution_count": 7,
   "metadata": {},
   "outputs": [
    {
     "name": "stdout",
     "output_type": "stream",
     "text": [
      "helo worldlol\n",
      "helo worldhelo world\n",
      "\n"
     ]
    }
   ],
   "source": [
    "a=\"helo world\"\n",
    "b=\"lol\"\n",
    "print(a+b)\n",
    "print(a*2)\n",
    "print(a[:-1:-1])"
   ]
  },
  {
   "cell_type": "code",
   "execution_count": 20,
   "metadata": {},
   "outputs": [
    {
     "name": "stdout",
     "output_type": "stream",
     "text": [
      "dlrow oleh\n"
     ]
    }
   ],
   "source": [
    "a=\"helo world\"\n",
    "b=\"lol\"\n",
    "# print(a+b)\n",
    "# print(a*2)\n",
    "print(a[10::-1])"
   ]
  },
  {
   "cell_type": "code",
   "execution_count": 26,
   "metadata": {},
   "outputs": [
    {
     "name": "stdout",
     "output_type": "stream",
     "text": [
      "3-2\n"
     ]
    }
   ],
   "source": [
    "# string formatin/g\n",
    "a=3\n",
    "b=2\n",
    "c=f\"{a}-{b}\"\n",
    "print(c)"
   ]
  },
  {
   "cell_type": "code",
   "execution_count": 28,
   "metadata": {},
   "outputs": [
    {
     "name": "stdout",
     "output_type": "stream",
     "text": [
      "entr=sanj\n",
      "entr ag=14\n",
      "entr add=ktm\\\n",
      "hello name is sanj. i ma  14. i an from ktm\\\n"
     ]
    }
   ],
   "source": [
    "name=input(\"entr=\")\n",
    "age=input(\"entr ag=\")\n",
    "add=input(\"entr add=\")\n",
    "info=f\"hello name is {name}. i ma  {age}. i an from {add}\"\n",
    "print(info)"
   ]
  },
  {
   "cell_type": "code",
   "execution_count": null,
   "metadata": {},
   "outputs": [],
   "source": []
  },
  {
   "cell_type": "code",
   "execution_count": 4,
   "metadata": {},
   "outputs": [
    {
     "name": "stdout",
     "output_type": "stream",
     "text": [
      "enter n=2\n",
      "enter name=xc\n",
      "enter pone=zxc\n",
      "enter add=cxz\n",
      "enter name=zxc\n",
      "enter pone=zxc\n",
      "enter add=zxc\n",
      "xc--zxc--cxz\n",
      "zxc--zxc--zxc\n",
      "\n"
     ]
    }
   ],
   "source": [
    "s=\"\"\n",
    "n=int(input(\"enter n=\"))\n",
    "for i in range(n):\n",
    "    name=input(\"enter name=\")\n",
    "    phone=input(\"enter pone=\")\n",
    "    add=input(\"enter add=\")\n",
    "    info=f\"{name}--{phone}--{add}\\n\"\n",
    "    s=s+info\n",
    "print(s)"
   ]
  },
  {
   "cell_type": "code",
   "execution_count": 13,
   "metadata": {},
   "outputs": [
    {
     "name": "stdout",
     "output_type": "stream",
     "text": [
      "entr value=khan\n",
      "yes 1\n"
     ]
    }
   ],
   "source": [
    "a=\"my name is khan  i am not terrorist\".upper()\n",
    "value=input(\"entr value=\").upper()\n",
    "if value in a:\n",
    "    print(\"yes\",a.count(value))\n",
    "else:\n",
    "    print(\"no\")"
   ]
  },
  {
   "cell_type": "code",
   "execution_count": 14,
   "metadata": {},
   "outputs": [
    {
     "data": {
      "text/plain": [
       "'MY NAME IS KHAN  I AM NOT TERRORIST'"
      ]
     },
     "execution_count": 14,
     "metadata": {},
     "output_type": "execute_result"
    }
   ],
   "source": [
    "a.upper()"
   ]
  },
  {
   "cell_type": "code",
   "execution_count": 25,
   "metadata": {},
   "outputs": [
    {
     "name": "stdout",
     "output_type": "stream",
     "text": [
      "RAM--8888\n",
      "SAM--9899\n"
     ]
    }
   ],
   "source": [
    "a=\"ram--8888\\nsam--9899\".upper()\n",
    "a=a.replace('ram','sanj')\n",
    "print(a)"
   ]
  },
  {
   "cell_type": "code",
   "execution_count": 38,
   "metadata": {},
   "outputs": [
    {
     "data": {
      "text/plain": [
       "['s', 'nju bh', 'i']"
      ]
     },
     "execution_count": 38,
     "metadata": {},
     "output_type": "execute_result"
    }
   ],
   "source": [
    "a=\"sanju bhai\"\n",
    "a.split(\"a\")"
   ]
  },
  {
   "cell_type": "code",
   "execution_count": 39,
   "metadata": {},
   "outputs": [
    {
     "data": {
      "text/plain": [
       "'s'"
      ]
     },
     "execution_count": 39,
     "metadata": {},
     "output_type": "execute_result"
    }
   ],
   "source": [
    "a[0]"
   ]
  },
  {
   "cell_type": "code",
   "execution_count": 40,
   "metadata": {},
   "outputs": [],
   "source": [
    "# wap for billing system\n",
    "# wap for result mngmt syse\n"
   ]
  },
  {
   "cell_type": "code",
   "execution_count": null,
   "metadata": {},
   "outputs": [],
   "source": [
    "s=\"\"\n",
    "n=int(input(\"enter n=\"))\n",
    "for i in range(n):\n",
    "    name=input(\"enter name=\")\n",
    "    phone=input(\"enter pone=\")\n",
    "    add=input(\"enter add=\")\n",
    "    info=f\"{name}--{phone}--{add}\\n\"\n",
    "    s=s+info\n",
    "print(s)"
   ]
  }
 ],
 "metadata": {
  "kernelspec": {
   "display_name": "Python 3",
   "language": "python",
   "name": "python3"
  },
  "language_info": {
   "codemirror_mode": {
    "name": "ipython",
    "version": 3
   },
   "file_extension": ".py",
   "mimetype": "text/x-python",
   "name": "python",
   "nbconvert_exporter": "python",
   "pygments_lexer": "ipython3",
   "version": "3.8.5"
  }
 },
 "nbformat": 4,
 "nbformat_minor": 4
}
