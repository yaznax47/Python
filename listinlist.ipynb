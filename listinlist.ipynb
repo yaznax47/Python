{
 "cells": [
  {
   "cell_type": "code",
   "execution_count": 6,
   "metadata": {},
   "outputs": [
    {
     "name": "stdout",
     "output_type": "stream",
     "text": [
      "['Ball', 'Dog', 'Fish', 'Apple']\n"
     ]
    }
   ],
   "source": [
    "# delete del or remove or pop\n",
    "s = [\"Apple\",\"Ball\",\"Cat\",\"Dog\",\"Fish\",\"Apple\"]\n",
    "del s[0:4:2]\n",
    "print(s)"
   ]
  },
  {
   "cell_type": "code",
   "execution_count": 9,
   "metadata": {},
   "outputs": [
    {
     "ename": "TypeError",
     "evalue": "'builtin_function_or_method' object is not subscriptable",
     "output_type": "error",
     "traceback": [
      "\u001b[1;31m---------------------------------------------------------------------------\u001b[0m",
      "\u001b[1;31mTypeError\u001b[0m                                 Traceback (most recent call last)",
      "\u001b[1;32m<ipython-input-9-cfc47ec6f2c5>\u001b[0m in \u001b[0;36m<module>\u001b[1;34m\u001b[0m\n\u001b[0;32m      1\u001b[0m \u001b[0ms\u001b[0m \u001b[1;33m=\u001b[0m \u001b[1;33m[\u001b[0m\u001b[1;34m\"Apple\"\u001b[0m\u001b[1;33m,\u001b[0m\u001b[1;34m\"Ball\"\u001b[0m\u001b[1;33m,\u001b[0m\u001b[1;34m\"Cat\"\u001b[0m\u001b[1;33m,\u001b[0m\u001b[1;34m\"Dog\"\u001b[0m\u001b[1;33m,\u001b[0m\u001b[1;34m\"Fish\"\u001b[0m\u001b[1;33m,\u001b[0m\u001b[1;34m\"Apple\"\u001b[0m\u001b[1;33m]\u001b[0m\u001b[1;33m\u001b[0m\u001b[1;33m\u001b[0m\u001b[0m\n\u001b[1;32m----> 2\u001b[1;33m \u001b[0ms\u001b[0m\u001b[1;33m.\u001b[0m\u001b[0mremove\u001b[0m\u001b[1;33m[\u001b[0m\u001b[1;34m\"Apple\"\u001b[0m\u001b[1;33m]\u001b[0m\u001b[1;33m\u001b[0m\u001b[1;33m\u001b[0m\u001b[0m\n\u001b[0m\u001b[0;32m      3\u001b[0m \u001b[0mprint\u001b[0m\u001b[1;33m(\u001b[0m\u001b[0ms\u001b[0m\u001b[1;33m)\u001b[0m\u001b[1;33m\u001b[0m\u001b[1;33m\u001b[0m\u001b[0m\n",
      "\u001b[1;31mTypeError\u001b[0m: 'builtin_function_or_method' object is not subscriptable"
     ]
    }
   ],
   "source": [
    "s = [\"Apple\",\"Ball\",\"Cat\",\"Dog\",\"Fish\",\"Apple\"]\n",
    "s.remove[\"Apple\"]\n",
    "print(s)"
   ]
  },
  {
   "cell_type": "code",
   "execution_count": 1,
   "metadata": {},
   "outputs": [
    {
     "name": "stdout",
     "output_type": "stream",
     "text": [
      "['Apple', 'Ball', 'Cat', 'Dog', 'Fish', 'Apple']\n"
     ]
    }
   ],
   "source": [
    "s = [\"Apple\",\"Ball\",\"Cat\",\"Dog\",\"Fish\",\"Apple\"]\n",
    "for i in s:\n",
    "    if i == \"Äpple\":\n",
    "        s.remove(\"Apple\")\n",
    "print(s)"
   ]
  },
  {
   "cell_type": "code",
   "execution_count": 5,
   "metadata": {},
   "outputs": [
    {
     "name": "stdout",
     "output_type": "stream",
     "text": [
      "['Apple', 'Cat', 'Dog', 'Fish', 'Apple']\n",
      "Ball\n"
     ]
    }
   ],
   "source": [
    "s = [\"Apple\",\"Ball\",\"Cat\",\"Dog\",\"Fish\",\"Apple\"]\n",
    "b=s.pop(1)\n",
    "print(s)\n",
    "print(b)"
   ]
  },
  {
   "cell_type": "code",
   "execution_count": 37,
   "metadata": {},
   "outputs": [
    {
     "name": "stdout",
     "output_type": "stream",
     "text": [
      "0\n",
      "1\n",
      "2\n",
      "3\n",
      "4\n",
      "5\n",
      "['Ball', 'Cat', 'Dog', 'Fish', 'Apple']\n",
      "4\n"
     ]
    }
   ],
   "source": [
    "s = [\"Apple\",\"Ball\",\"Apple\",\"Apple\",\"Cat\",\"Dog\",\"Fish\",\"Apple\"]\n",
    "n=s.count(\"Apple\")\n",
    "for i in range(6):\n",
    "    print(i)\n",
    "    if s[i] == \"Apple\":\n",
    "        s.remove(\"Apple\")\n",
    "print(s)\n",
    "print(n)"
   ]
  },
  {
   "cell_type": "code",
   "execution_count": 10,
   "metadata": {},
   "outputs": [
    {
     "name": "stdout",
     "output_type": "stream",
     "text": [
      "['ant', 'Ball', 'Cat', 'Dog', 'Fish', 'Apple']\n"
     ]
    }
   ],
   "source": [
    "a = [\"Apple\",\"Ball\",\"Cat\",\"Dog\",\"Fish\",\"Apple\"]\n",
    "a[0]=\"ant\"\n",
    "print(a)"
   ]
  },
  {
   "cell_type": "code",
   "execution_count": 16,
   "metadata": {},
   "outputs": [
    {
     "name": "stdout",
     "output_type": "stream",
     "text": [
      "['suren', 'Dog', 'Fish', 'Apple']\n"
     ]
    }
   ],
   "source": [
    "s = [\"Apple\",\"Ball\",\"Cat\",\"Dog\",\"Fish\",\"Apple\"]\n",
    "s[0:3]=[\"suren\"]\n",
    "print(s)\n"
   ]
  },
  {
   "cell_type": "code",
   "execution_count": 23,
   "metadata": {},
   "outputs": [
    {
     "name": "stdout",
     "output_type": "stream",
     "text": [
      "['suren', 'Apple', 'Ball', 'Cat', 'Dog', 'Fish', 'Apple']\n"
     ]
    }
   ],
   "source": [
    "s = [\"Apple\",\"Ball\",\"Cat\",\"Dog\",\"Fish\",\"Apple\"]\n",
    "s.insert(0,\"suren\")\n",
    "print(s)"
   ]
  },
  {
   "cell_type": "code",
   "execution_count": 3,
   "metadata": {},
   "outputs": [
    {
     "name": "stdout",
     "output_type": "stream",
     "text": [
      "['Ball', 'Cat', 'Dog', 'Fish']\n"
     ]
    }
   ],
   "source": [
    "s = [\"Apple\",\"Ball\",\"Apple\",\"Apple\",\"Cat\",\"Dog\",\"Fish\",\"Apple\"]\n",
    "b=[]\n",
    "for i in range(len(s)-1):\n",
    "    if s[i]!=\"Apple\":\n",
    "        b.append(s[i])\n",
    "print(b)"
   ]
  },
  {
   "cell_type": "code",
   "execution_count": 38,
   "metadata": {
    "scrolled": true
   },
   "outputs": [
    {
     "name": "stdout",
     "output_type": "stream",
     "text": [
      "[0, 2, 3, 7, 8, 9, 10, 11]\n"
     ]
    }
   ],
   "source": [
    "s = [\"Apple\",\"Ball\",\"Apple\",\"Apple\",\"Cat\",\"Dog\",\"Fish\",\"Apple\",\"Apple\",\"Apple\",\"Apple\",\"Apple\"]\n",
    "b=[]\n",
    "n=len(s)\n",
    "\n",
    "for i in range(n):\n",
    "    \n",
    "    if s[i]==\"Apple\":\n",
    "        b.append(i)\n",
    "print(b)"
   ]
  },
  {
   "cell_type": "code",
   "execution_count": 17,
   "metadata": {},
   "outputs": [
    {
     "ename": "SyntaxError",
     "evalue": "invalid syntax (<ipython-input-17-4048886a67fa>, line 4)",
     "output_type": "error",
     "traceback": [
      "\u001b[1;36m  File \u001b[1;32m\"<ipython-input-17-4048886a67fa>\"\u001b[1;36m, line \u001b[1;32m4\u001b[0m\n\u001b[1;33m    if i==\u001b[0m\n\u001b[1;37m          ^\u001b[0m\n\u001b[1;31mSyntaxError\u001b[0m\u001b[1;31m:\u001b[0m invalid syntax\n"
     ]
    }
   ],
   "source": [
    "s = [\"Apple\",\"Ball\",\"Cat\",\"Dog\",\"Fish\",\"Apple\"]\n",
    "b=[0,2,3]\n",
    "for i in range(len(a)):\n",
    "    if i=="
   ]
  },
  {
   "cell_type": "code",
   "execution_count": 36,
   "metadata": {},
   "outputs": [
    {
     "name": "stdout",
     "output_type": "stream",
     "text": [
      "enter a=1\n",
      "enter name=sa\n",
      "enter the pbone num=23\n",
      "[['sa', 23]]\n"
     ]
    }
   ],
   "source": [
    "n=int(input(\"enter a=\"))\n",
    "data=[]\n",
    "for i in range(n):\n",
    "    name=input(\"enter name=\")\n",
    "    phone=int(input(\"enter the pbone num=\"))\n",
    "    info=[name,phone]\n",
    "    data.append(info)\n",
    "print(data)"
   ]
  },
  {
   "cell_type": "code",
   "execution_count": 39,
   "metadata": {},
   "outputs": [
    {
     "data": {
      "text/plain": [
       "[['apple'], ['ball']]"
      ]
     },
     "execution_count": 39,
     "metadata": {},
     "output_type": "execute_result"
    }
   ],
   "source": [
    "a=[[\"apple\"]]\n",
    "b=[[\"ball\"]]\n",
    "a+b\n"
   ]
  },
  {
   "cell_type": "code",
   "execution_count": 43,
   "metadata": {},
   "outputs": [
    {
     "name": "stdout",
     "output_type": "stream",
     "text": [
      "['ram', '5959']\n"
     ]
    }
   ],
   "source": [
    "a=[[\"ram\",\"5959\"],[\"sam\",\"4545\"]]\n",
    "# name=input(\"enetr name=\")\n",
    "for i in a:\n",
    "        if \"ram\" in i:\n",
    "            print(i)"
   ]
  },
  {
   "cell_type": "code",
   "execution_count": 2,
   "metadata": {},
   "outputs": [
    {
     "name": "stderr",
     "output_type": "stream",
     "text": [
      "<>:4: SyntaxWarning: 'int' object is not subscriptable; perhaps you missed a comma?\n",
      "<>:4: SyntaxWarning: 'int' object is not subscriptable; perhaps you missed a comma?\n"
     ]
    },
    {
     "name": "stdout",
     "output_type": "stream",
     "text": [
      "enetr name=ram\n"
     ]
    },
    {
     "name": "stderr",
     "output_type": "stream",
     "text": [
      "<ipython-input-2-dcaa5238cd05>:4: SyntaxWarning: 'int' object is not subscriptable; perhaps you missed a comma?\n",
      "  if name.lower() in i[0[1]].lower():\n"
     ]
    },
    {
     "ename": "TypeError",
     "evalue": "'int' object is not subscriptable",
     "output_type": "error",
     "traceback": [
      "\u001b[1;31m---------------------------------------------------------------------------\u001b[0m",
      "\u001b[1;31mTypeError\u001b[0m                                 Traceback (most recent call last)",
      "\u001b[1;32m<ipython-input-2-dcaa5238cd05>\u001b[0m in \u001b[0;36m<module>\u001b[1;34m\u001b[0m\n\u001b[0;32m      2\u001b[0m \u001b[0mname\u001b[0m\u001b[1;33m=\u001b[0m\u001b[0minput\u001b[0m\u001b[1;33m(\u001b[0m\u001b[1;34m\"enetr name=\"\u001b[0m\u001b[1;33m)\u001b[0m\u001b[1;33m\u001b[0m\u001b[1;33m\u001b[0m\u001b[0m\n\u001b[0;32m      3\u001b[0m \u001b[1;32mfor\u001b[0m \u001b[0mi\u001b[0m \u001b[1;32min\u001b[0m \u001b[0ma\u001b[0m\u001b[1;33m:\u001b[0m\u001b[1;33m\u001b[0m\u001b[1;33m\u001b[0m\u001b[0m\n\u001b[1;32m----> 4\u001b[1;33m         \u001b[1;32mif\u001b[0m \u001b[0mname\u001b[0m\u001b[1;33m.\u001b[0m\u001b[0mlower\u001b[0m\u001b[1;33m(\u001b[0m\u001b[1;33m)\u001b[0m \u001b[1;32min\u001b[0m \u001b[0mi\u001b[0m\u001b[1;33m[\u001b[0m\u001b[1;36m0\u001b[0m\u001b[1;33m[\u001b[0m\u001b[1;36m1\u001b[0m\u001b[1;33m]\u001b[0m\u001b[1;33m]\u001b[0m\u001b[1;33m.\u001b[0m\u001b[0mlower\u001b[0m\u001b[1;33m(\u001b[0m\u001b[1;33m)\u001b[0m\u001b[1;33m:\u001b[0m\u001b[1;33m\u001b[0m\u001b[1;33m\u001b[0m\u001b[0m\n\u001b[0m\u001b[0;32m      5\u001b[0m             \u001b[0mprint\u001b[0m\u001b[1;33m(\u001b[0m\u001b[0mi\u001b[0m\u001b[1;33m)\u001b[0m\u001b[1;33m\u001b[0m\u001b[1;33m\u001b[0m\u001b[0m\n\u001b[0;32m      6\u001b[0m \u001b[1;33m\u001b[0m\u001b[0m\n",
      "\u001b[1;31mTypeError\u001b[0m: 'int' object is not subscriptable"
     ]
    }
   ],
   "source": [
    "a=[[\"ram\",\"usa\",\"5959\"],[\"sam\",\"4545\"]]\n",
    "name=input(\"enetr name=\")\n",
    "for i in a:\n",
    "        if name.lower() in i[0[1]].lower():\n",
    "            print(i)\n",
    "        "
   ]
  },
  {
   "cell_type": "code",
   "execution_count": null,
   "metadata": {},
   "outputs": [],
   "source": []
  },
  {
   "cell_type": "code",
   "execution_count": null,
   "metadata": {},
   "outputs": [],
   "source": []
  }
 ],
 "metadata": {
  "kernelspec": {
   "display_name": "Python 3",
   "language": "python",
   "name": "python3"
  },
  "language_info": {
   "codemirror_mode": {
    "name": "ipython",
    "version": 3
   },
   "file_extension": ".py",
   "mimetype": "text/x-python",
   "name": "python",
   "nbconvert_exporter": "python",
   "pygments_lexer": "ipython3",
   "version": "3.8.5"
  }
 },
 "nbformat": 4,
 "nbformat_minor": 4
}
