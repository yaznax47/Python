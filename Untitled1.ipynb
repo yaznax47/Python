{
 "cells": [
  {
   "cell_type": "code",
   "execution_count": null,
   "metadata": {},
   "outputs": [],
   "source": [
    "# def <function_name>():\n",
    "    "
   ]
  },
  {
   "cell_type": "code",
   "execution_count": 1,
   "metadata": {},
   "outputs": [
    {
     "name": "stdout",
     "output_type": "stream",
     "text": [
      "hello\n"
     ]
    }
   ],
   "source": [
    "def hello():\n",
    "    print(\"hello\")\n",
    "    \n",
    "hello()"
   ]
  },
  {
   "cell_type": "code",
   "execution_count": 8,
   "metadata": {},
   "outputs": [
    {
     "name": "stdout",
     "output_type": "stream",
     "text": [
      "enter l = 45\n",
      "enter b = 8\n",
      "the output is 360\n"
     ]
    }
   ],
   "source": [
    "def area():\n",
    "    l=int(input(\"enter l = \"))\n",
    "    b=int(input(\"enter b = \"))\n",
    "    a=l*b\n",
    "    print(\"the output is\",a)\n",
    "    \n",
    "area()"
   ]
  },
  {
   "cell_type": "code",
   "execution_count": 13,
   "metadata": {},
   "outputs": [
    {
     "name": "stdout",
     "output_type": "stream",
     "text": [
      "helo\n"
     ]
    }
   ],
   "source": [
    "def hello(x):\n",
    "    print(x)\n",
    "    \n",
    "hello(\"helo\")"
   ]
  },
  {
   "cell_type": "code",
   "execution_count": null,
   "metadata": {},
   "outputs": [],
   "source": []
  },
  {
   "cell_type": "code",
   "execution_count": 2,
   "metadata": {},
   "outputs": [
    {
     "name": "stdout",
     "output_type": "stream",
     "text": [
      "enter l =5\n",
      "enter h =8\n",
      "40\n"
     ]
    }
   ],
   "source": [
    "def area(p,i):\n",
    "    a = p*i\n",
    "    print(a)\n",
    "    \n",
    "l=int(input(\"enter l =\"))\n",
    "h=int(input(\"enter h =\"))\n",
    "area(l,h)"
   ]
  },
  {
   "cell_type": "code",
   "execution_count": null,
   "metadata": {},
   "outputs": [],
   "source": []
  },
  {
   "cell_type": "code",
   "execution_count": 3,
   "metadata": {},
   "outputs": [
    {
     "name": "stdout",
     "output_type": "stream",
     "text": [
      "enter l =5\n",
      "enter h =8\n",
      "40\n"
     ]
    }
   ],
   "source": [
    "l=int(input(\"enter l =\"))\n",
    "h=int(input(\"enter h =\"))\n",
    "def area(p,i):\n",
    "    a = p*i\n",
    "    print(a)\n",
    "    \n",
    "area(l,h)\n",
    "\n"
   ]
  },
  {
   "cell_type": "code",
   "execution_count": 2,
   "metadata": {},
   "outputs": [
    {
     "name": "stdout",
     "output_type": "stream",
     "text": [
      "ç\n",
      "ç++\n",
      "java\n",
      "pthon\n"
     ]
    }
   ],
   "source": [
    "def langauge(lan=\"pthon\"):\n",
    "    print(lan)\n",
    "    \n",
    "langauge('ç')\n",
    "langauge('ç++')\n",
    "langauge('java')\n",
    "langauge()"
   ]
  },
  {
   "cell_type": "code",
   "execution_count": 1,
   "metadata": {},
   "outputs": [
    {
     "name": "stdout",
     "output_type": "stream",
     "text": [
      "hello world\n"
     ]
    }
   ],
   "source": [
    "# fun wit no arg & retn typ\n",
    "def hello():\n",
    "    return\"hello world\"\n",
    "x = hello()\n",
    "print(x)"
   ]
  },
  {
   "cell_type": "code",
   "execution_count": 2,
   "metadata": {},
   "outputs": [
    {
     "name": "stdout",
     "output_type": "stream",
     "text": [
      "the area is =  1200\n",
      "12000\n"
     ]
    }
   ],
   "source": [
    "# fun wit no arg & retn typ\n",
    "def area():\n",
    "    l = 100\n",
    "    b = 12\n",
    "    a= l*b\n",
    "    return a\n",
    "\n",
    "ar=area()\n",
    "print(\"the area is = \",ar)\n",
    "h=10 \n",
    "v=ar*h\n",
    "print(v)"
   ]
  },
  {
   "cell_type": "code",
   "execution_count": 5,
   "metadata": {},
   "outputs": [
    {
     "name": "stdout",
     "output_type": "stream",
     "text": [
      "the area is =  2000\n",
      "20000\n"
     ]
    }
   ],
   "source": [
    "# fun wit no arg & retn typ\n",
    "def area(x,y):\n",
    "    a=x*y\n",
    "    return a\n",
    "l=100\n",
    "b=20\n",
    "ar=area(l,b)\n",
    "print(\"the area is = \",ar)\n",
    "h=10 \n",
    "v=ar*h\n",
    "print(v)"
   ]
  },
  {
   "cell_type": "code",
   "execution_count": null,
   "metadata": {},
   "outputs": [],
   "source": []
  }
 ],
 "metadata": {
  "kernelspec": {
   "display_name": "Python 3",
   "language": "python",
   "name": "python3"
  },
  "language_info": {
   "codemirror_mode": {
    "name": "ipython",
    "version": 3
   },
   "file_extension": ".py",
   "mimetype": "text/x-python",
   "name": "python",
   "nbconvert_exporter": "python",
   "pygments_lexer": "ipython3",
   "version": "3.8.5"
  }
 },
 "nbformat": 4,
 "nbformat_minor": 4
}
