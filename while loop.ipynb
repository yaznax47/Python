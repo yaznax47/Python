{
 "cells": [
  {
   "cell_type": "code",
   "execution_count": null,
   "metadata": {},
   "outputs": [],
   "source": [
    "# while <comdiyion>:\n",
    "#     <operation>\n",
    "    "
   ]
  },
  {
   "cell_type": "code",
   "execution_count": null,
   "metadata": {},
   "outputs": [],
   "source": [
    "a=0\n",
    "while a<5:\n",
    "    print(\"elo\")\n",
    "    a=a+1"
   ]
  },
  {
   "cell_type": "code",
   "execution_count": null,
   "metadata": {},
   "outputs": [],
   "source": [
    "a=5\n",
    "while a>5:\n",
    "    print(\"elo\")\n",
    "    a=a-1"
   ]
  },
  {
   "cell_type": "code",
   "execution_count": null,
   "metadata": {},
   "outputs": [],
   "source": [
    "s=0\n",
    "i=0\n",
    "n=int(input(\"enter n\"))\n",
    "while i<n:\n",
    "    x=int(input(\"enetr x=\"))\n",
    "    s=s+x\n",
    "    i=i+1\n",
    "print(s)"
   ]
  },
  {
   "cell_type": "code",
   "execution_count": null,
   "metadata": {},
   "outputs": [],
   "source": [
    "i=1\n",
    "a=int(input(\"enter a=\"))\n",
    "while i<=10:\n",
    "    print(a,\"*\",i,\"=\",a*i)\n",
    "    i=i+1"
   ]
  },
  {
   "cell_type": "code",
   "execution_count": null,
   "metadata": {},
   "outputs": [],
   "source": [
    "s=\"\"\n",
    "i=1\n",
    "n=int(input(\"enter a=\"))\n",
    "while i<=n:\n",
    "    name=input(\"enter name=\")\n",
    "    phone=input(\"enter phone=\")\n",
    "    s=s+str(i)+\"\"+name+\"\"+phone+\"\\n\"\n",
    "    i=i+1\n",
    "print(\"i\",s)"
   ]
  },
  {
   "cell_type": "code",
   "execution_count": null,
   "metadata": {},
   "outputs": [],
   "source": [
    "fac=1\n",
    "i=1\n",
    "n=int(input(\"enter the n=\"))\n",
    "while i<=n:\n",
    "    fac=fac*i\n",
    "    i=i+1\n",
    "print(fac)"
   ]
  },
  {
   "cell_type": "code",
   "execution_count": null,
   "metadata": {},
   "outputs": [],
   "source": [
    "i=5\n",
    "while i>=1:\n",
    "    print(i,\"hello\")\n",
    "    i=i-1"
   ]
  },
  {
   "cell_type": "code",
   "execution_count": null,
   "metadata": {},
   "outputs": [],
   "source": [
    "a=\"python\"\n",
    "n=len(a)-1\n",
    "while n>=0:\n",
    "    print(n,a[n],end=\" \\n\\n\")\n",
    "    n=n-1"
   ]
  },
  {
   "cell_type": "code",
   "execution_count": null,
   "metadata": {},
   "outputs": [],
   "source": [
    "# # while loop as if else\n",
    "# break continue\n",
    "a=\"hllo world\"\n",
    "for i in a:\n",
    "    if i==\" \":\n",
    "        break\n",
    "    print(i,end=\"\")\n"
   ]
  },
  {
   "cell_type": "code",
   "execution_count": null,
   "metadata": {},
   "outputs": [],
   "source": [
    "# # while loop as if else\n",
    "# break continue\n",
    "a=\"hllo world\"\n",
    "for i in a:\n",
    "    if i==\" \":\n",
    "        continue\n",
    "    print(i,end=\"\")"
   ]
  },
  {
   "cell_type": "code",
   "execution_count": null,
   "metadata": {},
   "outputs": [],
   "source": [
    "for i in range(1,47):\n",
    "    if i%5 !=0:\n",
    "        continue\n",
    "    print(i)"
   ]
  },
  {
   "cell_type": "code",
   "execution_count": null,
   "metadata": {},
   "outputs": [],
   "source": [
    "n=int(input(\"enter vai=\"))\n",
    "if n>2:\n",
    "    for i in range(2,n):\n",
    "        if n%i==0:\n",
    "            print(\"compo\")\n",
    "            break\n",
    "        else:\n",
    "            print(\"prime\")\n",
    "            break\n",
    "else:\n",
    "    print(\"prime\")"
   ]
  },
  {
   "cell_type": "code",
   "execution_count": null,
   "metadata": {},
   "outputs": [],
   "source": [
    "# A Program that detects whether given number is prime no. or a composite no.\n",
    "\n",
    "num = int(input('Enter No. = '))\n",
    "if num == 1 or num == 0:\n",
    "print(num,'is neither prime nor composite')\n",
    "elif num < 0:\n",
    "print(num,'is a Negative number')\n",
    "else:\n",
    "for i in range(2, num):\n",
    "if num % i == 0:\n",
    "print(num,'is a Composite Number')\n",
    "break\n",
    "else:\n",
    "print(num,\"is a prime Number\")\n"
   ]
  },
  {
   "cell_type": "code",
   "execution_count": null,
   "metadata": {},
   "outputs": [],
   "source": []
  }
 ],
 "metadata": {
  "kernelspec": {
   "display_name": "Python 3",
   "language": "python",
   "name": "python3"
  },
  "language_info": {
   "codemirror_mode": {
    "name": "ipython",
    "version": 3
   },
   "file_extension": ".py",
   "mimetype": "text/x-python",
   "name": "python",
   "nbconvert_exporter": "python",
   "pygments_lexer": "ipython3",
   "version": "3.8.5"
  }
 },
 "nbformat": 4,
 "nbformat_minor": 4
}
